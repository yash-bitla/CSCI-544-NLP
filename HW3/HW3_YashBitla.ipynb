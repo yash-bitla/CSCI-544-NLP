{
 "cells": [
  {
   "cell_type": "markdown",
   "metadata": {},
   "source": [
    "# Imports"
   ]
  },
  {
   "cell_type": "code",
   "execution_count": 101,
   "metadata": {},
   "outputs": [],
   "source": [
    "import gzip\n",
    "import pandas as pd\n",
    "import contractions\n",
    "import string\n",
    "import re\n",
    "from sklearn.model_selection import train_test_split\n",
    "import gensim.downloader as api\n",
    "from sklearn.metrics.pairwise import cosine_similarity\n",
    "from gensim.models import Word2Vec\n",
    "import numpy as np\n",
    "from sklearn.feature_extraction.text import TfidfVectorizer\n",
    "from sklearn.linear_model import Perceptron\n",
    "from sklearn.svm import LinearSVC\n",
    "from sklearn.metrics import precision_score, recall_score, f1_score\n",
    "import torch\n",
    "from torch.utils.data import Dataset, DataLoader, random_split\n",
    "import torch.nn as nn\n",
    "import matplotlib.pyplot as plt"
   ]
  },
  {
   "cell_type": "markdown",
   "metadata": {},
   "source": [
    "# 1) Dataset Generation"
   ]
  },
  {
   "cell_type": "markdown",
   "metadata": {},
   "source": [
    "##### For preparing the data, I am using the gzip package to open and read the dataset. The datasets consists of 15 columns of which I am extracting the 'review_body' and 'rating' column for this assignment. The dataframe 'df_review_rating' holds these extracted columns. I am converting the 'ratings' to a standard format which I am then using to create our binary classes. For simplicity, I have created a copy of the 'df_review_rating' called 'binary_df' which has an extra column called as 'classes'. This columns holds the labels for our dataset. Finally, I extracted 50000 reviews randomly from each class and stored it in the 'dataset_df' dataset"
   ]
  },
  {
   "cell_type": "markdown",
   "metadata": {},
   "source": [
    "### Read Data"
   ]
  },
  {
   "cell_type": "code",
   "execution_count": 9,
   "metadata": {},
   "outputs": [],
   "source": [
    "dataset_path = 'amazon_reviews_us_Office_Products_v1_00.tsv.gz'\n",
    "with gzip.open(dataset_path, 'rt', encoding='utf-8') as file:\n",
    "    df = pd.read_csv(file, sep='\\t', on_bad_lines='skip', low_memory=False)"
   ]
  },
  {
   "cell_type": "code",
   "execution_count": 10,
   "metadata": {},
   "outputs": [
    {
     "name": "stdout",
     "output_type": "stream",
     "text": [
      "['marketplace' 'customer_id' 'review_id' 'product_id' 'product_parent'\n",
      " 'product_title' 'product_category' 'star_rating' 'helpful_votes'\n",
      " 'total_votes' 'vine' 'verified_purchase' 'review_headline' 'review_body'\n",
      " 'review_date']\n"
     ]
    },
    {
     "data": {
      "text/html": [
       "<div>\n",
       "<style scoped>\n",
       "    .dataframe tbody tr th:only-of-type {\n",
       "        vertical-align: middle;\n",
       "    }\n",
       "\n",
       "    .dataframe tbody tr th {\n",
       "        vertical-align: top;\n",
       "    }\n",
       "\n",
       "    .dataframe thead th {\n",
       "        text-align: right;\n",
       "    }\n",
       "</style>\n",
       "<table border=\"1\" class=\"dataframe\">\n",
       "  <thead>\n",
       "    <tr style=\"text-align: right;\">\n",
       "      <th></th>\n",
       "      <th>marketplace</th>\n",
       "      <th>customer_id</th>\n",
       "      <th>review_id</th>\n",
       "      <th>product_id</th>\n",
       "      <th>product_parent</th>\n",
       "      <th>product_title</th>\n",
       "      <th>product_category</th>\n",
       "      <th>star_rating</th>\n",
       "      <th>helpful_votes</th>\n",
       "      <th>total_votes</th>\n",
       "      <th>vine</th>\n",
       "      <th>verified_purchase</th>\n",
       "      <th>review_headline</th>\n",
       "      <th>review_body</th>\n",
       "      <th>review_date</th>\n",
       "    </tr>\n",
       "  </thead>\n",
       "  <tbody>\n",
       "    <tr>\n",
       "      <th>0</th>\n",
       "      <td>US</td>\n",
       "      <td>43081963</td>\n",
       "      <td>R18RVCKGH1SSI9</td>\n",
       "      <td>B001BM2MAC</td>\n",
       "      <td>307809868</td>\n",
       "      <td>Scotch Cushion Wrap 7961, 12 Inches x 100 Feet</td>\n",
       "      <td>Office Products</td>\n",
       "      <td>5</td>\n",
       "      <td>0.0</td>\n",
       "      <td>0.0</td>\n",
       "      <td>N</td>\n",
       "      <td>Y</td>\n",
       "      <td>Five Stars</td>\n",
       "      <td>Great product.</td>\n",
       "      <td>2015-08-31</td>\n",
       "    </tr>\n",
       "    <tr>\n",
       "      <th>1</th>\n",
       "      <td>US</td>\n",
       "      <td>10951564</td>\n",
       "      <td>R3L4L6LW1PUOFY</td>\n",
       "      <td>B00DZYEXPQ</td>\n",
       "      <td>75004341</td>\n",
       "      <td>Dust-Off Compressed Gas Duster, Pack of 4</td>\n",
       "      <td>Office Products</td>\n",
       "      <td>5</td>\n",
       "      <td>0.0</td>\n",
       "      <td>1.0</td>\n",
       "      <td>N</td>\n",
       "      <td>Y</td>\n",
       "      <td>Phffffffft, Phfffffft. Lots of air, and it's C...</td>\n",
       "      <td>What's to say about this commodity item except...</td>\n",
       "      <td>2015-08-31</td>\n",
       "    </tr>\n",
       "    <tr>\n",
       "      <th>2</th>\n",
       "      <td>US</td>\n",
       "      <td>21143145</td>\n",
       "      <td>R2J8AWXWTDX2TF</td>\n",
       "      <td>B00RTMUHDW</td>\n",
       "      <td>529689027</td>\n",
       "      <td>Amram Tagger Standard Tag Attaching Tagging Gu...</td>\n",
       "      <td>Office Products</td>\n",
       "      <td>5</td>\n",
       "      <td>0.0</td>\n",
       "      <td>0.0</td>\n",
       "      <td>N</td>\n",
       "      <td>Y</td>\n",
       "      <td>but I am sure I will like it.</td>\n",
       "      <td>Haven't used yet, but I am sure I will like it.</td>\n",
       "      <td>2015-08-31</td>\n",
       "    </tr>\n",
       "    <tr>\n",
       "      <th>3</th>\n",
       "      <td>US</td>\n",
       "      <td>52782374</td>\n",
       "      <td>R1PR37BR7G3M6A</td>\n",
       "      <td>B00D7H8XB6</td>\n",
       "      <td>868449945</td>\n",
       "      <td>AmazonBasics 12-Sheet High-Security Micro-Cut ...</td>\n",
       "      <td>Office Products</td>\n",
       "      <td>1</td>\n",
       "      <td>2.0</td>\n",
       "      <td>3.0</td>\n",
       "      <td>N</td>\n",
       "      <td>Y</td>\n",
       "      <td>and the shredder was dirty and the bin was par...</td>\n",
       "      <td>Although this was labeled as &amp;#34;new&amp;#34; the...</td>\n",
       "      <td>2015-08-31</td>\n",
       "    </tr>\n",
       "    <tr>\n",
       "      <th>4</th>\n",
       "      <td>US</td>\n",
       "      <td>24045652</td>\n",
       "      <td>R3BDDDZMZBZDPU</td>\n",
       "      <td>B001XCWP34</td>\n",
       "      <td>33521401</td>\n",
       "      <td>Derwent Colored Pencils, Inktense Ink Pencils,...</td>\n",
       "      <td>Office Products</td>\n",
       "      <td>4</td>\n",
       "      <td>0.0</td>\n",
       "      <td>0.0</td>\n",
       "      <td>N</td>\n",
       "      <td>Y</td>\n",
       "      <td>Four Stars</td>\n",
       "      <td>Gorgeous colors and easy to use</td>\n",
       "      <td>2015-08-31</td>\n",
       "    </tr>\n",
       "  </tbody>\n",
       "</table>\n",
       "</div>"
      ],
      "text/plain": [
       "  marketplace  customer_id       review_id  product_id  product_parent  \\\n",
       "0          US     43081963  R18RVCKGH1SSI9  B001BM2MAC       307809868   \n",
       "1          US     10951564  R3L4L6LW1PUOFY  B00DZYEXPQ        75004341   \n",
       "2          US     21143145  R2J8AWXWTDX2TF  B00RTMUHDW       529689027   \n",
       "3          US     52782374  R1PR37BR7G3M6A  B00D7H8XB6       868449945   \n",
       "4          US     24045652  R3BDDDZMZBZDPU  B001XCWP34        33521401   \n",
       "\n",
       "                                       product_title product_category  \\\n",
       "0     Scotch Cushion Wrap 7961, 12 Inches x 100 Feet  Office Products   \n",
       "1          Dust-Off Compressed Gas Duster, Pack of 4  Office Products   \n",
       "2  Amram Tagger Standard Tag Attaching Tagging Gu...  Office Products   \n",
       "3  AmazonBasics 12-Sheet High-Security Micro-Cut ...  Office Products   \n",
       "4  Derwent Colored Pencils, Inktense Ink Pencils,...  Office Products   \n",
       "\n",
       "  star_rating  helpful_votes  total_votes vine verified_purchase  \\\n",
       "0           5            0.0          0.0    N                 Y   \n",
       "1           5            0.0          1.0    N                 Y   \n",
       "2           5            0.0          0.0    N                 Y   \n",
       "3           1            2.0          3.0    N                 Y   \n",
       "4           4            0.0          0.0    N                 Y   \n",
       "\n",
       "                                     review_headline  \\\n",
       "0                                         Five Stars   \n",
       "1  Phffffffft, Phfffffft. Lots of air, and it's C...   \n",
       "2                      but I am sure I will like it.   \n",
       "3  and the shredder was dirty and the bin was par...   \n",
       "4                                         Four Stars   \n",
       "\n",
       "                                         review_body review_date  \n",
       "0                                     Great product.  2015-08-31  \n",
       "1  What's to say about this commodity item except...  2015-08-31  \n",
       "2    Haven't used yet, but I am sure I will like it.  2015-08-31  \n",
       "3  Although this was labeled as &#34;new&#34; the...  2015-08-31  \n",
       "4                    Gorgeous colors and easy to use  2015-08-31  "
      ]
     },
     "execution_count": 10,
     "metadata": {},
     "output_type": "execute_result"
    }
   ],
   "source": [
    "print(df.columns.values)\n",
    "df.head(5)"
   ]
  },
  {
   "cell_type": "markdown",
   "metadata": {},
   "source": [
    "### Keep Reviews and Ratings"
   ]
  },
  {
   "cell_type": "code",
   "execution_count": 11,
   "metadata": {},
   "outputs": [
    {
     "data": {
      "text/html": [
       "<div>\n",
       "<style scoped>\n",
       "    .dataframe tbody tr th:only-of-type {\n",
       "        vertical-align: middle;\n",
       "    }\n",
       "\n",
       "    .dataframe tbody tr th {\n",
       "        vertical-align: top;\n",
       "    }\n",
       "\n",
       "    .dataframe thead th {\n",
       "        text-align: right;\n",
       "    }\n",
       "</style>\n",
       "<table border=\"1\" class=\"dataframe\">\n",
       "  <thead>\n",
       "    <tr style=\"text-align: right;\">\n",
       "      <th></th>\n",
       "      <th>star_rating</th>\n",
       "      <th>review_body</th>\n",
       "    </tr>\n",
       "  </thead>\n",
       "  <tbody>\n",
       "    <tr>\n",
       "      <th>0</th>\n",
       "      <td>5</td>\n",
       "      <td>Great product.</td>\n",
       "    </tr>\n",
       "    <tr>\n",
       "      <th>1</th>\n",
       "      <td>5</td>\n",
       "      <td>What's to say about this commodity item except...</td>\n",
       "    </tr>\n",
       "    <tr>\n",
       "      <th>2</th>\n",
       "      <td>5</td>\n",
       "      <td>Haven't used yet, but I am sure I will like it.</td>\n",
       "    </tr>\n",
       "    <tr>\n",
       "      <th>3</th>\n",
       "      <td>1</td>\n",
       "      <td>Although this was labeled as &amp;#34;new&amp;#34; the...</td>\n",
       "    </tr>\n",
       "    <tr>\n",
       "      <th>4</th>\n",
       "      <td>4</td>\n",
       "      <td>Gorgeous colors and easy to use</td>\n",
       "    </tr>\n",
       "    <tr>\n",
       "      <th>...</th>\n",
       "      <td>...</td>\n",
       "      <td>...</td>\n",
       "    </tr>\n",
       "    <tr>\n",
       "      <th>2640249</th>\n",
       "      <td>4</td>\n",
       "      <td>I can't live anymore whithout my Palm III. But...</td>\n",
       "    </tr>\n",
       "    <tr>\n",
       "      <th>2640250</th>\n",
       "      <td>4</td>\n",
       "      <td>Although the Palm Pilot is thin and compact it...</td>\n",
       "    </tr>\n",
       "    <tr>\n",
       "      <th>2640251</th>\n",
       "      <td>4</td>\n",
       "      <td>This book had a lot of great content without b...</td>\n",
       "    </tr>\n",
       "    <tr>\n",
       "      <th>2640252</th>\n",
       "      <td>5</td>\n",
       "      <td>I am teaching a course in Excel and am using t...</td>\n",
       "    </tr>\n",
       "    <tr>\n",
       "      <th>2640253</th>\n",
       "      <td>5</td>\n",
       "      <td>A very comprehensive layout of exactly how Vis...</td>\n",
       "    </tr>\n",
       "  </tbody>\n",
       "</table>\n",
       "<p>2640254 rows × 2 columns</p>\n",
       "</div>"
      ],
      "text/plain": [
       "        star_rating                                        review_body\n",
       "0                 5                                     Great product.\n",
       "1                 5  What's to say about this commodity item except...\n",
       "2                 5    Haven't used yet, but I am sure I will like it.\n",
       "3                 1  Although this was labeled as &#34;new&#34; the...\n",
       "4                 4                    Gorgeous colors and easy to use\n",
       "...             ...                                                ...\n",
       "2640249           4  I can't live anymore whithout my Palm III. But...\n",
       "2640250           4  Although the Palm Pilot is thin and compact it...\n",
       "2640251           4  This book had a lot of great content without b...\n",
       "2640252           5  I am teaching a course in Excel and am using t...\n",
       "2640253           5  A very comprehensive layout of exactly how Vis...\n",
       "\n",
       "[2640254 rows x 2 columns]"
      ]
     },
     "execution_count": 11,
     "metadata": {},
     "output_type": "execute_result"
    }
   ],
   "source": [
    "df_review_rating = df[['star_rating','review_body']]\n",
    "df_review_rating"
   ]
  },
  {
   "cell_type": "code",
   "execution_count": 12,
   "metadata": {},
   "outputs": [
    {
     "name": "stderr",
     "output_type": "stream",
     "text": [
      "C:\\Users\\YASH\\AppData\\Local\\Temp\\ipykernel_23716\\2485622692.py:1: SettingWithCopyWarning: \n",
      "A value is trying to be set on a copy of a slice from a DataFrame.\n",
      "Try using .loc[row_indexer,col_indexer] = value instead\n",
      "\n",
      "See the caveats in the documentation: https://pandas.pydata.org/pandas-docs/stable/user_guide/indexing.html#returning-a-view-versus-a-copy\n",
      "  df_review_rating['star_rating']=pd.to_numeric(df_review_rating['star_rating'], errors='coerce')\n"
     ]
    },
    {
     "data": {
      "text/html": [
       "<div>\n",
       "<style scoped>\n",
       "    .dataframe tbody tr th:only-of-type {\n",
       "        vertical-align: middle;\n",
       "    }\n",
       "\n",
       "    .dataframe tbody tr th {\n",
       "        vertical-align: top;\n",
       "    }\n",
       "\n",
       "    .dataframe thead th {\n",
       "        text-align: right;\n",
       "    }\n",
       "</style>\n",
       "<table border=\"1\" class=\"dataframe\">\n",
       "  <thead>\n",
       "    <tr style=\"text-align: right;\">\n",
       "      <th></th>\n",
       "      <th>star_rating</th>\n",
       "      <th>review_body</th>\n",
       "    </tr>\n",
       "  </thead>\n",
       "  <tbody>\n",
       "    <tr>\n",
       "      <th>0</th>\n",
       "      <td>5.0</td>\n",
       "      <td>Great product.</td>\n",
       "    </tr>\n",
       "    <tr>\n",
       "      <th>1</th>\n",
       "      <td>5.0</td>\n",
       "      <td>What's to say about this commodity item except...</td>\n",
       "    </tr>\n",
       "    <tr>\n",
       "      <th>2</th>\n",
       "      <td>5.0</td>\n",
       "      <td>Haven't used yet, but I am sure I will like it.</td>\n",
       "    </tr>\n",
       "    <tr>\n",
       "      <th>3</th>\n",
       "      <td>1.0</td>\n",
       "      <td>Although this was labeled as &amp;#34;new&amp;#34; the...</td>\n",
       "    </tr>\n",
       "    <tr>\n",
       "      <th>4</th>\n",
       "      <td>4.0</td>\n",
       "      <td>Gorgeous colors and easy to use</td>\n",
       "    </tr>\n",
       "  </tbody>\n",
       "</table>\n",
       "</div>"
      ],
      "text/plain": [
       "   star_rating                                        review_body\n",
       "0          5.0                                     Great product.\n",
       "1          5.0  What's to say about this commodity item except...\n",
       "2          5.0    Haven't used yet, but I am sure I will like it.\n",
       "3          1.0  Although this was labeled as &#34;new&#34; the...\n",
       "4          4.0                    Gorgeous colors and easy to use"
      ]
     },
     "execution_count": 12,
     "metadata": {},
     "output_type": "execute_result"
    }
   ],
   "source": [
    "df_review_rating['star_rating']=pd.to_numeric(df_review_rating['star_rating'], errors='coerce')\n",
    "df_review_rating = df_review_rating[pd.notna(df_review_rating['star_rating'])]\n",
    "\n",
    "df_review_rating.head(5)"
   ]
  },
  {
   "cell_type": "markdown",
   "metadata": {},
   "source": [
    " ### We form two classes and select 50000 reviews randomly from each class.\n",
    "\n"
   ]
  },
  {
   "cell_type": "code",
   "execution_count": 13,
   "metadata": {},
   "outputs": [
    {
     "data": {
      "text/plain": [
       "array([5., 1., 4., 2., 3.])"
      ]
     },
     "execution_count": 13,
     "metadata": {},
     "output_type": "execute_result"
    }
   ],
   "source": [
    "df_review_rating['star_rating'].unique()"
   ]
  },
  {
   "cell_type": "code",
   "execution_count": 14,
   "metadata": {},
   "outputs": [],
   "source": [
    "binary_df = df_review_rating.copy()\n",
    "\n",
    "def category(row):\n",
    "    if row['star_rating'] == 1 or row['star_rating'] == '1' or row['star_rating'] == 2 or row['star_rating'] == '2' or row['star_rating'] == 3 or row['star_rating'] == '3':\n",
    "        return 1\n",
    "    \n",
    "    else:\n",
    "        return 2"
   ]
  },
  {
   "cell_type": "code",
   "execution_count": 15,
   "metadata": {},
   "outputs": [
    {
     "data": {
      "text/html": [
       "<div>\n",
       "<style scoped>\n",
       "    .dataframe tbody tr th:only-of-type {\n",
       "        vertical-align: middle;\n",
       "    }\n",
       "\n",
       "    .dataframe tbody tr th {\n",
       "        vertical-align: top;\n",
       "    }\n",
       "\n",
       "    .dataframe thead th {\n",
       "        text-align: right;\n",
       "    }\n",
       "</style>\n",
       "<table border=\"1\" class=\"dataframe\">\n",
       "  <thead>\n",
       "    <tr style=\"text-align: right;\">\n",
       "      <th></th>\n",
       "      <th>star_rating</th>\n",
       "      <th>review_body</th>\n",
       "      <th>class</th>\n",
       "    </tr>\n",
       "  </thead>\n",
       "  <tbody>\n",
       "    <tr>\n",
       "      <th>0</th>\n",
       "      <td>5.0</td>\n",
       "      <td>Great product.</td>\n",
       "      <td>2</td>\n",
       "    </tr>\n",
       "    <tr>\n",
       "      <th>1</th>\n",
       "      <td>5.0</td>\n",
       "      <td>What's to say about this commodity item except...</td>\n",
       "      <td>2</td>\n",
       "    </tr>\n",
       "    <tr>\n",
       "      <th>2</th>\n",
       "      <td>5.0</td>\n",
       "      <td>Haven't used yet, but I am sure I will like it.</td>\n",
       "      <td>2</td>\n",
       "    </tr>\n",
       "    <tr>\n",
       "      <th>3</th>\n",
       "      <td>1.0</td>\n",
       "      <td>Although this was labeled as &amp;#34;new&amp;#34; the...</td>\n",
       "      <td>1</td>\n",
       "    </tr>\n",
       "    <tr>\n",
       "      <th>4</th>\n",
       "      <td>4.0</td>\n",
       "      <td>Gorgeous colors and easy to use</td>\n",
       "      <td>2</td>\n",
       "    </tr>\n",
       "    <tr>\n",
       "      <th>...</th>\n",
       "      <td>...</td>\n",
       "      <td>...</td>\n",
       "      <td>...</td>\n",
       "    </tr>\n",
       "    <tr>\n",
       "      <th>2640249</th>\n",
       "      <td>4.0</td>\n",
       "      <td>I can't live anymore whithout my Palm III. But...</td>\n",
       "      <td>2</td>\n",
       "    </tr>\n",
       "    <tr>\n",
       "      <th>2640250</th>\n",
       "      <td>4.0</td>\n",
       "      <td>Although the Palm Pilot is thin and compact it...</td>\n",
       "      <td>2</td>\n",
       "    </tr>\n",
       "    <tr>\n",
       "      <th>2640251</th>\n",
       "      <td>4.0</td>\n",
       "      <td>This book had a lot of great content without b...</td>\n",
       "      <td>2</td>\n",
       "    </tr>\n",
       "    <tr>\n",
       "      <th>2640252</th>\n",
       "      <td>5.0</td>\n",
       "      <td>I am teaching a course in Excel and am using t...</td>\n",
       "      <td>2</td>\n",
       "    </tr>\n",
       "    <tr>\n",
       "      <th>2640253</th>\n",
       "      <td>5.0</td>\n",
       "      <td>A very comprehensive layout of exactly how Vis...</td>\n",
       "      <td>2</td>\n",
       "    </tr>\n",
       "  </tbody>\n",
       "</table>\n",
       "<p>2640237 rows × 3 columns</p>\n",
       "</div>"
      ],
      "text/plain": [
       "         star_rating                                        review_body  class\n",
       "0                5.0                                     Great product.      2\n",
       "1                5.0  What's to say about this commodity item except...      2\n",
       "2                5.0    Haven't used yet, but I am sure I will like it.      2\n",
       "3                1.0  Although this was labeled as &#34;new&#34; the...      1\n",
       "4                4.0                    Gorgeous colors and easy to use      2\n",
       "...              ...                                                ...    ...\n",
       "2640249          4.0  I can't live anymore whithout my Palm III. But...      2\n",
       "2640250          4.0  Although the Palm Pilot is thin and compact it...      2\n",
       "2640251          4.0  This book had a lot of great content without b...      2\n",
       "2640252          5.0  I am teaching a course in Excel and am using t...      2\n",
       "2640253          5.0  A very comprehensive layout of exactly how Vis...      2\n",
       "\n",
       "[2640237 rows x 3 columns]"
      ]
     },
     "execution_count": 15,
     "metadata": {},
     "output_type": "execute_result"
    }
   ],
   "source": [
    "binary_df['class'] = df.apply(lambda row: category(row), axis=1)\n",
    "binary_df"
   ]
  },
  {
   "cell_type": "code",
   "execution_count": 16,
   "metadata": {},
   "outputs": [
    {
     "name": "stdout",
     "output_type": "stream",
     "text": [
      "2    2001183\n",
      "1     639054\n",
      "Name: class, dtype: int64\n",
      "[2 1]\n"
     ]
    }
   ],
   "source": [
    "print(binary_df['class'].value_counts())\n",
    "print(binary_df['class'].unique())"
   ]
  },
  {
   "cell_type": "code",
   "execution_count": 17,
   "metadata": {},
   "outputs": [
    {
     "data": {
      "text/html": [
       "<div>\n",
       "<style scoped>\n",
       "    .dataframe tbody tr th:only-of-type {\n",
       "        vertical-align: middle;\n",
       "    }\n",
       "\n",
       "    .dataframe tbody tr th {\n",
       "        vertical-align: top;\n",
       "    }\n",
       "\n",
       "    .dataframe thead th {\n",
       "        text-align: right;\n",
       "    }\n",
       "</style>\n",
       "<table border=\"1\" class=\"dataframe\">\n",
       "  <thead>\n",
       "    <tr style=\"text-align: right;\">\n",
       "      <th></th>\n",
       "      <th>star_rating</th>\n",
       "      <th>review_body</th>\n",
       "      <th>class</th>\n",
       "    </tr>\n",
       "  </thead>\n",
       "  <tbody>\n",
       "    <tr>\n",
       "      <th>0</th>\n",
       "      <td>1.0</td>\n",
       "      <td>it says right in the specifications that it wo...</td>\n",
       "      <td>1</td>\n",
       "    </tr>\n",
       "    <tr>\n",
       "      <th>1</th>\n",
       "      <td>1.0</td>\n",
       "      <td>These things were horrible.  Used 6 to hang a ...</td>\n",
       "      <td>1</td>\n",
       "    </tr>\n",
       "    <tr>\n",
       "      <th>2</th>\n",
       "      <td>2.0</td>\n",
       "      <td>Not sure why, but works for one Epson printer ...</td>\n",
       "      <td>1</td>\n",
       "    </tr>\n",
       "    <tr>\n",
       "      <th>3</th>\n",
       "      <td>1.0</td>\n",
       "      <td>I ordered two letter organizers and received t...</td>\n",
       "      <td>1</td>\n",
       "    </tr>\n",
       "    <tr>\n",
       "      <th>4</th>\n",
       "      <td>3.0</td>\n",
       "      <td>This kit comes with 5 gears, 4 of which go int...</td>\n",
       "      <td>1</td>\n",
       "    </tr>\n",
       "    <tr>\n",
       "      <th>...</th>\n",
       "      <td>...</td>\n",
       "      <td>...</td>\n",
       "      <td>...</td>\n",
       "    </tr>\n",
       "    <tr>\n",
       "      <th>99995</th>\n",
       "      <td>5.0</td>\n",
       "      <td>I BUY THIS EVERY YEAR.</td>\n",
       "      <td>2</td>\n",
       "    </tr>\n",
       "    <tr>\n",
       "      <th>99996</th>\n",
       "      <td>5.0</td>\n",
       "      <td>Good shredder at a good price.</td>\n",
       "      <td>2</td>\n",
       "    </tr>\n",
       "    <tr>\n",
       "      <th>99997</th>\n",
       "      <td>5.0</td>\n",
       "      <td>We have actually had this system for almost 5 ...</td>\n",
       "      <td>2</td>\n",
       "    </tr>\n",
       "    <tr>\n",
       "      <th>99998</th>\n",
       "      <td>5.0</td>\n",
       "      <td>Awesome!! Work and print just like the origina...</td>\n",
       "      <td>2</td>\n",
       "    </tr>\n",
       "    <tr>\n",
       "      <th>99999</th>\n",
       "      <td>5.0</td>\n",
       "      <td>works well.</td>\n",
       "      <td>2</td>\n",
       "    </tr>\n",
       "  </tbody>\n",
       "</table>\n",
       "<p>100000 rows × 3 columns</p>\n",
       "</div>"
      ],
      "text/plain": [
       "       star_rating                                        review_body  class\n",
       "0              1.0  it says right in the specifications that it wo...      1\n",
       "1              1.0  These things were horrible.  Used 6 to hang a ...      1\n",
       "2              2.0  Not sure why, but works for one Epson printer ...      1\n",
       "3              1.0  I ordered two letter organizers and received t...      1\n",
       "4              3.0  This kit comes with 5 gears, 4 of which go int...      1\n",
       "...            ...                                                ...    ...\n",
       "99995          5.0                             I BUY THIS EVERY YEAR.      2\n",
       "99996          5.0                     Good shredder at a good price.      2\n",
       "99997          5.0  We have actually had this system for almost 5 ...      2\n",
       "99998          5.0  Awesome!! Work and print just like the origina...      2\n",
       "99999          5.0                                        works well.      2\n",
       "\n",
       "[100000 rows x 3 columns]"
      ]
     },
     "execution_count": 17,
     "metadata": {},
     "output_type": "execute_result"
    }
   ],
   "source": [
    "# Reading rows belonging to classes 1 and 2\n",
    "class1_df = binary_df[binary_df['class'] == 1]\n",
    "class2_df = binary_df[binary_df['class'] == 2]\n",
    "\n",
    "# Randomly choosing 50,000 reviews of each class\n",
    "random_class1_df = class1_df.sample(n = 50000, random_state=42)\n",
    "random_class2_df = class2_df.sample(n = 50000, random_state=42)\n",
    "\n",
    "# Combining the two classes to create a single dataset\n",
    "dataset_df = pd.concat([random_class1_df, random_class2_df])\n",
    "\n",
    "# Reset the indexes\n",
    "dataset_df.reset_index(drop=True, inplace=True)\n",
    "\n",
    "dataset_df"
   ]
  },
  {
   "cell_type": "code",
   "execution_count": 18,
   "metadata": {},
   "outputs": [
    {
     "data": {
      "text/plain": [
       "1    50000\n",
       "2    50000\n",
       "Name: class, dtype: int64"
      ]
     },
     "execution_count": 18,
     "metadata": {},
     "output_type": "execute_result"
    }
   ],
   "source": [
    "dataset_df['class'].astype(int)\n",
    "dataset_df['class'].value_counts()"
   ]
  },
  {
   "cell_type": "markdown",
   "metadata": {},
   "source": [
    "#### Data Cleaning\n",
    "\n",
    "#### The following tasks were performed for cleaning the dataset - \n",
    "#### 1) Firstly, I looked for rows with missed values and replaced it with an empty string.\n",
    "#### 2) Converted all the reviews to lowercase using the lower() function.\n",
    "#### 3) Removed punctuations from the review by using the string.punctuation package.\n",
    "#### 4) Removed any kind of non-alphabetical characters from the reviews by tokenizing the words and checking if each character is between A-Z or a-z.\n",
    "#### 5) Removed all HTML tags and URLs from the reviews.\n",
    "#### 6) Removed any use of emojis in the reviews.\n",
    "#### 7) Finally, removed all the extra spaces from the reviews.\n",
    "\n",
    "#### I performed contractions on the reviews as well. However, I got slightly better results when contractions was avoided.\n"
   ]
  },
  {
   "cell_type": "code",
   "execution_count": 19,
   "metadata": {},
   "outputs": [
    {
     "name": "stdout",
     "output_type": "stream",
     "text": [
      "True\n",
      "star_rating    0\n",
      "review_body    1\n",
      "class          0\n",
      "dtype: int64\n"
     ]
    }
   ],
   "source": [
    "print(dataset_df.isnull().values.any())\n",
    "print(dataset_df.isnull().sum())\n",
    "\n",
    "dataset_df = dataset_df.fillna('')"
   ]
  },
  {
   "cell_type": "markdown",
   "metadata": {},
   "source": [
    "### Storing average length of the reviews in terms of character length in your dataset before cleaning"
   ]
  },
  {
   "cell_type": "code",
   "execution_count": 20,
   "metadata": {},
   "outputs": [
    {
     "name": "stdout",
     "output_type": "stream",
     "text": [
      "   before\n",
      "0     174\n",
      "1     335\n",
      "2     109\n",
      "3     355\n",
      "4     427\n"
     ]
    }
   ],
   "source": [
    "reviewLen = pd.DataFrame()\n",
    "reviewLen['before'] = dataset_df['review_body'].str.len()\n",
    "print(reviewLen.head(5))"
   ]
  },
  {
   "cell_type": "markdown",
   "metadata": {},
   "source": [
    "### Converting reviews into lowercase"
   ]
  },
  {
   "cell_type": "code",
   "execution_count": 21,
   "metadata": {},
   "outputs": [
    {
     "name": "stdout",
     "output_type": "stream",
     "text": [
      "   star_rating                                        review_body  class\n",
      "0          1.0  it says right in the specifications that it wo...      1\n",
      "1          1.0  these things were horrible.  used 6 to hang a ...      1\n",
      "2          2.0  not sure why, but works for one epson printer ...      1\n",
      "3          1.0  i ordered two letter organizers and received t...      1\n",
      "4          3.0  this kit comes with 5 gears, 4 of which go int...      1\n"
     ]
    }
   ],
   "source": [
    "dataset_df['review_body'] = dataset_df['review_body'].str.lower()\n",
    "reviewLen['lowercase'] = dataset_df['review_body'].str.len()\n",
    "print(dataset_df.head(5))"
   ]
  },
  {
   "cell_type": "markdown",
   "metadata": {},
   "source": [
    "### Remove Punctuations"
   ]
  },
  {
   "cell_type": "code",
   "execution_count": 22,
   "metadata": {},
   "outputs": [
    {
     "name": "stdout",
     "output_type": "stream",
     "text": [
      "   star_rating                                        review_body  class\n",
      "0          1.0  it says right in the specifications that it wo...      1\n",
      "1          1.0  these things were horrible  used 6 to hang a s...      1\n",
      "2          2.0  not sure why but works for one epson printer b...      1\n",
      "3          1.0  i ordered two letter organizers and received t...      1\n",
      "4          3.0  this kit comes with 5 gears 4 of which go into...      1\n"
     ]
    }
   ],
   "source": [
    "def remove_punctuations(text):\n",
    "    if isinstance(text, str): \n",
    "        return ''.join(char for char in text if char not in string.punctuation)\n",
    "    else:\n",
    "        return text\n",
    "\n",
    "dataset_df['review_body'] = dataset_df['review_body'].apply(remove_punctuations)\n",
    "reviewLen['punctations'] = dataset_df['review_body'].str.len()\n",
    "\n",
    "print(dataset_df.head(5))"
   ]
  },
  {
   "cell_type": "markdown",
   "metadata": {},
   "source": [
    "### Remove non-alphabetical characters"
   ]
  },
  {
   "cell_type": "code",
   "execution_count": 23,
   "metadata": {},
   "outputs": [
    {
     "name": "stdout",
     "output_type": "stream",
     "text": [
      "   star_rating                                        review_body  class\n",
      "0          1.0  it says right in the specifications that it wo...      1\n",
      "1          1.0  these things were horrible  used   to hang a s...      1\n",
      "2          2.0  not sure why but works for one epson printer b...      1\n",
      "3          1.0  i ordered two letter organizers and received t...      1\n",
      "4          3.0  this kit comes with   gears   of which go into...      1\n"
     ]
    }
   ],
   "source": [
    "def remove_non_alphabetical(text):\n",
    "    if isinstance(text, str): \n",
    "        return re.sub(r'[^a-zA-Z]', ' ', text)\n",
    "    else:\n",
    "        return text\n",
    "\n",
    "dataset_df['review_body'] = dataset_df['review_body'].apply(remove_non_alphabetical)\n",
    "reviewLen['non_alphanum'] = dataset_df['review_body'].str.len()\n",
    "\n",
    "print(dataset_df.head(5))"
   ]
  },
  {
   "cell_type": "markdown",
   "metadata": {},
   "source": [
    "### Remove HTML and URLs from the reviews"
   ]
  },
  {
   "cell_type": "code",
   "execution_count": 24,
   "metadata": {},
   "outputs": [
    {
     "name": "stdout",
     "output_type": "stream",
     "text": [
      "   star_rating                                        review_body  class\n",
      "0          1.0  it says right in the specifications that it wo...      1\n",
      "1          1.0  these things were horrible  used   to hang a s...      1\n",
      "2          2.0  not sure why but works for one epson printer b...      1\n",
      "3          1.0  i ordered two letter organizers and received t...      1\n",
      "4          3.0  this kit comes with   gears   of which go into...      1\n"
     ]
    }
   ],
   "source": [
    "dataset_df['review_body'] = dataset_df['review_body'].astype(str)\n",
    "\n",
    "def remove_html_tags(text):\n",
    "    try:\n",
    "        clean_text = re.sub(r'<.*?>', '', text)\n",
    "        return clean_text\n",
    "    except TypeError:\n",
    "        return text\n",
    "\n",
    "def remove_urls(text):\n",
    "    try:\n",
    "        clean_text = re.sub(r'http\\S+', '', text)\n",
    "        return clean_text\n",
    "    except TypeError:\n",
    "        return text\n",
    "\n",
    "dataset_df['review_body'] = dataset_df['review_body'].apply(remove_html_tags)\n",
    "dataset_df['review_body'] = dataset_df['review_body'].apply(remove_urls)\n",
    "\n",
    "reviewLen['HTML_URLs'] = dataset_df['review_body'].str.len()\n",
    "\n",
    "print(dataset_df.head(5))"
   ]
  },
  {
   "cell_type": "markdown",
   "metadata": {},
   "source": [
    "### Remove Emojis"
   ]
  },
  {
   "cell_type": "code",
   "execution_count": 25,
   "metadata": {},
   "outputs": [
    {
     "name": "stdout",
     "output_type": "stream",
     "text": [
      "   star_rating                                        review_body  class\n",
      "0          1.0  it says right in the specifications that it wo...      1\n",
      "1          1.0  these things were horrible  used   to hang a s...      1\n",
      "2          2.0  not sure why but works for one epson printer b...      1\n",
      "3          1.0  i ordered two letter organizers and received t...      1\n",
      "4          3.0  this kit comes with   gears   of which go into...      1\n"
     ]
    }
   ],
   "source": [
    "\n",
    "def remove_emojis(text):\n",
    "    emoji_pattern = re.compile(\"[\"\n",
    "                           u\"\\U0001F600-\\U0001F64F\"  # emoticons\n",
    "                           u\"\\U0001F300-\\U0001F5FF\"  # symbols & pictographs\n",
    "                           u\"\\U0001F680-\\U0001F6FF\"  # transport & map symbols\n",
    "                           u\"\\U0001F1E0-\\U0001F1FF\"  # flags (iOS)\n",
    "                           u\"\\U00002702-\\U000027B0\"\n",
    "                           u\"\\U000024C2-\\U0001F251\"\n",
    "                           \"]+\", flags=re.UNICODE)\n",
    "    \n",
    "    return emoji_pattern.sub(r'', text)\n",
    "\n",
    "dataset_df['review_body'] = dataset_df['review_body'].apply(remove_emojis)\n",
    "reviewLen['Emojis'] = dataset_df['review_body'].str.len()\n",
    "\n",
    "print(dataset_df.head(5))"
   ]
  },
  {
   "cell_type": "markdown",
   "metadata": {},
   "source": [
    "### Remove extra spaces"
   ]
  },
  {
   "cell_type": "code",
   "execution_count": 26,
   "metadata": {},
   "outputs": [
    {
     "name": "stdout",
     "output_type": "stream",
     "text": [
      "   star_rating                                        review_body  class\n",
      "0          1.0  it says right in the specifications that it wo...      1\n",
      "1          1.0  these things were horrible  used   to hang a s...      1\n",
      "2          2.0  not sure why but works for one epson printer b...      1\n",
      "3          1.0  i ordered two letter organizers and received t...      1\n",
      "4          3.0  this kit comes with   gears   of which go into...      1\n"
     ]
    }
   ],
   "source": [
    "dataset_df['review_body'] = dataset_df['review_body'].str.replace(r'\\s+', ' ', regex=False)\n",
    "reviewLen['extraSpaces'] = dataset_df['review_body'].str.len()\n",
    "\n",
    "print(dataset_df.head(5))"
   ]
  },
  {
   "cell_type": "markdown",
   "metadata": {},
   "source": [
    "### Average length of the reviews in terms of character length in your dataset before and after cleaning"
   ]
  },
  {
   "cell_type": "code",
   "execution_count": 28,
   "metadata": {},
   "outputs": [
    {
     "name": "stdout",
     "output_type": "stream",
     "text": [
      "The average length of the reviews before clearning -  316.02996\n",
      "The average length of the reviews after cleaning -  304.46909\n"
     ]
    }
   ],
   "source": [
    "reviewLen['after'] = dataset_df['review_body'].str.len()\n",
    "\n",
    "print(\"The average length of the reviews before clearning - \",reviewLen['before'].mean())\n",
    "print(\"The average length of the reviews after cleaning - \", reviewLen['after'].mean())"
   ]
  },
  {
   "cell_type": "markdown",
   "metadata": {},
   "source": [
    "# 2) Word Embedding"
   ]
  },
  {
   "cell_type": "markdown",
   "metadata": {},
   "source": [
    "### 2-a) Load the pretrained “word2vec-google-news-300” Word2Vec model and learn how to extract word embeddings for your dataset. Try to check semantic similarities of the generated vectors using three examples of your own, e.g., King − Man + Woman = Queen or excellent ∼ outstanding."
   ]
  },
  {
   "cell_type": "code",
   "execution_count": 29,
   "metadata": {},
   "outputs": [
    {
     "name": "stdout",
     "output_type": "stream",
     "text": [
      "Training Shape  (80000,)\n",
      "Testing Shape  (20000,)\n"
     ]
    }
   ],
   "source": [
    "# Splitting the Dataset\n",
    "\n",
    "Xtrain, Xtest, Ytrain, Ytest = train_test_split(dataset_df['review_body'], dataset_df['class'], test_size=0.2, random_state=16)\n",
    "print(\"Training Shape \", Xtrain.shape)\n",
    "print(\"Testing Shape \", Xtest.shape)"
   ]
  },
  {
   "cell_type": "code",
   "execution_count": 102,
   "metadata": {},
   "outputs": [],
   "source": [
    "# Load the Word2Vec google model\n",
    "w2v_model = api.load('word2vec-google-news-300')"
   ]
  },
  {
   "cell_type": "code",
   "execution_count": 117,
   "metadata": {},
   "outputs": [
    {
     "name": "stdout",
     "output_type": "stream",
     "text": [
      "[('queen', 0.7118193507194519), ('monarch', 0.6189674139022827), ('princess', 0.5902431011199951), ('crown_prince', 0.5499460697174072), ('prince', 0.5377321839332581), ('kings', 0.5236844420433044), ('Queen_Consort', 0.5235945582389832), ('queens', 0.5181134343147278), ('sultan', 0.5098593831062317), ('monarchy', 0.5087411999702454)]\n",
      "[('terrific', 0.7409726977348328), ('superb', 0.7062715888023376), ('exceptional', 0.681470513343811), ('fantastic', 0.6802847981452942), ('good', 0.6442928910255432), ('great', 0.6124600172042847), ('Excellent', 0.6091997623443604), ('impeccable', 0.5980967283248901), ('exemplary', 0.5959650278091431), ('marvelous', 0.582928478717804)]\n",
      "[('mother', 0.7119967341423035), ('husband', 0.6427904963493347), ('daughter', 0.6421711444854736), ('sister', 0.6059560179710388), ('eldest_daughter', 0.5988065004348755), ('grandmother', 0.5926641225814819), ('mom', 0.5790746212005615), ('aunt', 0.5724061131477356), ('niece', 0.555463969707489), ('granddaughter', 0.5517464876174927)]\n",
      "[('glad', 0.7408890724182129), ('pleased', 0.6632170677185059), ('ecstatic', 0.6626912355422974), ('overjoyed', 0.6599286794662476), ('thrilled', 0.6514049172401428), ('satisfied', 0.6437949538230896), ('proud', 0.636042058467865), ('delighted', 0.627237856388092), ('disappointed', 0.6269949674606323), ('excited', 0.6247665286064148)]\n"
     ]
    }
   ],
   "source": [
    "# Calculate most similarity\n",
    "print(w2v_model.most_similar(positive=['king','woman'], negative=['man']))\n",
    "print(w2v_model.most_similar('excellent'))\n",
    "print(w2v_model.most_similar(positive=['she','father'], negative=['him']))\n",
    "print(w2v_model.most_similar('happy'))"
   ]
  },
  {
   "cell_type": "code",
   "execution_count": 32,
   "metadata": {},
   "outputs": [
    {
     "name": "stdout",
     "output_type": "stream",
     "text": [
      "[[0.61299497]]\n",
      "[[0.5567486]]\n",
      "[[0.0734347]]\n"
     ]
    }
   ],
   "source": [
    "# Calculate cosine similarity\n",
    "print(cosine_similarity([w2v_model['he']], [w2v_model['she']]))\n",
    "print(cosine_similarity([w2v_model['excellent']],[w2v_model['outstanding']]))\n",
    "print(cosine_similarity([w2v_model['him']], [w2v_model['father'] - w2v_model['she']]))"
   ]
  },
  {
   "cell_type": "markdown",
   "metadata": {},
   "source": [
    "### 2-b) Train a Word2Vec model using your own dataset. You will use these extracted features in the subsequent questions of this assignment. Set the embedding size to be 300 and the window size to be 13. You can also consider a minimum word count of 9. Check the semantic similarities for the same two examples in part (a). What do you conclude from comparing vectors generated by yourself and the pretrained model? Which of the Word2Vec models seems to encode semantic similarities between words better? For the rest of this assignment, use the pretrained “word2vec-googlenews-300” Word2Ve features."
   ]
  },
  {
   "cell_type": "code",
   "execution_count": 104,
   "metadata": {},
   "outputs": [],
   "source": [
    "Xtrain_words = list(Xtrain.str.split(\" \"))\n",
    "model = Word2Vec(Xtrain_words, vector_size=300, window=13, min_count=9)\n",
    "model.save(\"custom_word2vec.model\")"
   ]
  },
  {
   "cell_type": "code",
   "execution_count": 115,
   "metadata": {},
   "outputs": [
    {
     "name": "stdout",
     "output_type": "stream",
     "text": [
      "[('league', 0.6516976356506348), ('padfolio', 0.605780303478241), ('bible', 0.5874396562576294), ('fiber', 0.5822516083717346), ('knuckle', 0.5762327313423157), ('portfolio', 0.5746113061904907), ('sword', 0.5739806890487671), ('antiglare', 0.5703129172325134), ('filofax', 0.5691536664962769), ('ergo', 0.5683412551879883)]\n",
      "[('outstanding', 0.8251203298568726), ('exceptional', 0.8103826642036438), ('superb', 0.7469307780265808), ('incredible', 0.7324579358100891), ('terrific', 0.7177923917770386), ('amazing', 0.7176928520202637), ('fantastic', 0.7170583009719849), ('awesome', 0.692162036895752), ('affordable', 0.6837301254272461), ('great', 0.6481202244758606)]\n",
      "[('wife', 0.6897209286689758), ('granddaughter', 0.6702401638031006), ('mom', 0.6675980091094971), ('daughter', 0.651307225227356), ('son', 0.6474236845970154), ('mother', 0.6380146145820618), ('girlfriend', 0.6181607842445374), ('dad', 0.610023021697998), ('husband', 0.598183274269104), ('coworker', 0.590136706829071)]\n",
      "[('pleased', 0.915418267250061), ('satisfied', 0.8905591368675232), ('impressed', 0.8217052817344666), ('unhappy', 0.8086627125740051), ('unsatisfied', 0.7577372789382935), ('thrilled', 0.7576954960823059), ('dissatisfied', 0.731281578540802), ('disappointed', 0.7225008010864258), ('delighted', 0.7100692987442017), ('upset', 0.684943437576294)]\n"
     ]
    }
   ],
   "source": [
    "print(model.wv.most_similar(positive=['king','woman'], negative=['man']))\n",
    "print(model.wv.most_similar(positive = ['excellent']))\n",
    "print(model.wv.most_similar(positive=['she','father'], negative=['him']))\n",
    "print(model.wv.most_similar('happy'))"
   ]
  },
  {
   "cell_type": "code",
   "execution_count": 113,
   "metadata": {},
   "outputs": [
    {
     "name": "stdout",
     "output_type": "stream",
     "text": [
      "[[0.84833896]]\n",
      "[[0.82512033]]\n",
      "[[-0.65903854]]\n"
     ]
    }
   ],
   "source": [
    "print(cosine_similarity([model.wv['he']], [model.wv['she']]))\n",
    "print(cosine_similarity([model.wv['excellent']],[model.wv['outstanding']]))\n",
    "print(cosine_similarity([model.wv['him']], [model.wv['father'] - model.wv['she']]))"
   ]
  },
  {
   "cell_type": "markdown",
   "metadata": {},
   "source": [
    "# 3) Simple models"
   ]
  },
  {
   "cell_type": "markdown",
   "metadata": {},
   "source": [
    "### Generate Scores"
   ]
  },
  {
   "cell_type": "code",
   "execution_count": 35,
   "metadata": {},
   "outputs": [],
   "source": [
    "def get_stats(Ytest, pred):\n",
    "    precision = precision_score(Ytest, pred)\n",
    "    recall = recall_score(Ytest, pred)\n",
    "    f1 = f1_score(Ytest, pred)\n",
    "\n",
    "    return precision, recall, f1"
   ]
  },
  {
   "cell_type": "markdown",
   "metadata": {},
   "source": [
    "### Word2Vec"
   ]
  },
  {
   "cell_type": "code",
   "execution_count": 36,
   "metadata": {},
   "outputs": [
    {
     "name": "stdout",
     "output_type": "stream",
     "text": [
      "(80000, 300) (20000, 300) (80000,) (20000,)\n"
     ]
    }
   ],
   "source": [
    "Word2Vec_dim = 300\n",
    "\n",
    "# Generate average Word2Vec\n",
    "def get_avg_word2vec(review, model):\n",
    "    words = review.split()\n",
    "    words_vector = [model[word] for word in words if word in model]\n",
    "    if words_vector:\n",
    "        return np.mean(words_vector, axis=0)\n",
    "    else:\n",
    "        return np.zeros(Word2Vec_dim)\n",
    "\n",
    "Xtrain_wv = np.array([get_avg_word2vec(review, w2v_model) for review in Xtrain])\n",
    "Xtest_wv = np.array([get_avg_word2vec(review, w2v_model) for review in Xtest])\n",
    "Ytrain_wv = Ytrain.copy()\n",
    "Ytest_wv = Ytest.copy()\n",
    "\n",
    "print(Xtrain_wv.shape, Xtest_wv.shape, Ytrain_wv.shape, Ytest_wv.shape)"
   ]
  },
  {
   "cell_type": "code",
   "execution_count": 37,
   "metadata": {},
   "outputs": [],
   "source": [
    "# Initialize the Perceptron model\n",
    "model_perceptron = Perceptron(alpha=0.001, max_iter=1000)\n",
    "\n",
    "model_perceptron = model_perceptron.fit(Xtrain_wv, Ytrain_wv)\n",
    "predPerceptron = model_perceptron.predict(Xtest_wv)\n",
    "\n",
    "precisionPerceptron_wv, recallPerceptron_wv, f1Perceptron_wv = get_stats(Ytest_wv, predPerceptron)"
   ]
  },
  {
   "cell_type": "code",
   "execution_count": 38,
   "metadata": {},
   "outputs": [],
   "source": [
    "model_svm = LinearSVC(C=0.35,\n",
    "    tol=0.001,\n",
    "    max_iter=5000,                 #Total iterations\n",
    "    random_state=16,                #Control the random number generation to control the shuffling\n",
    "    penalty='l1',                  #Norm of Penalty \n",
    "    class_weight=\"balanced\",       #Provides the weight to each class\n",
    "    loss='squared_hinge',          #Specifies the Loss Function\n",
    "    dual=False\n",
    ")\n",
    "\n",
    "model_svm = model_svm.fit(Xtrain_wv , Ytrain_wv)\n",
    "predSVM = model_svm.predict(Xtest_wv)\n",
    "\n",
    "precisionSVM_wv, recallSVM_wv, f1SVM_wv = get_stats(Ytest_wv, predSVM)"
   ]
  },
  {
   "cell_type": "markdown",
   "metadata": {},
   "source": [
    "### TF-IDF"
   ]
  },
  {
   "cell_type": "code",
   "execution_count": 39,
   "metadata": {},
   "outputs": [
    {
     "name": "stdout",
     "output_type": "stream",
     "text": [
      "(80000, 61201) (20000, 61201) (80000,) (20000,)\n"
     ]
    }
   ],
   "source": [
    "tf_idf = TfidfVectorizer()\n",
    "Xtrain_tf_idf = tf_idf.fit_transform(Xtrain)\n",
    "Xtest_tf_idf = tf_idf.transform(Xtest)\n",
    "Ytrain_tf_idf = Ytrain.copy()\n",
    "Ytest_tf_idf = Ytest.copy()\n",
    "\n",
    "print(Xtrain_tf_idf.shape, Xtest_tf_idf.shape, Ytrain_tf_idf.shape, Ytest_tf_idf.shape)"
   ]
  },
  {
   "cell_type": "code",
   "execution_count": 40,
   "metadata": {},
   "outputs": [],
   "source": [
    "# Initialize the Perceptron model\n",
    "model_perceptron = Perceptron(alpha=0.001, max_iter=1000)\n",
    "\n",
    "model_perceptron = model_perceptron.fit(Xtrain_tf_idf, Ytrain_tf_idf)\n",
    "predPerceptron = model_perceptron.predict(Xtest_tf_idf)\n",
    "\n",
    "precisionPerceptron_tfidf, recallPerceptron_tfidf, f1Perceptron_tfidf = get_stats(Ytest_tf_idf, predPerceptron)"
   ]
  },
  {
   "cell_type": "code",
   "execution_count": 41,
   "metadata": {},
   "outputs": [],
   "source": [
    "model_svm = LinearSVC(C=0.35,\n",
    "    tol=0.001,\n",
    "    max_iter=1000,                 #Total iterations\n",
    "    random_state=16,                #Control the random number generation to control the shuffling\n",
    "    penalty='l1',                  #Norm of Penalty \n",
    "    class_weight=\"balanced\",       #Provides the weight to each class\n",
    "    loss='squared_hinge',          #Specifies the Loss Function\n",
    "    dual=False\n",
    ")\n",
    "\n",
    "model_svm = model_svm.fit(Xtrain_tf_idf , Ytrain_tf_idf)\n",
    "predSVM = model_svm.predict(Xtest_tf_idf)\n",
    "\n",
    "precisionSVM_tfidf, recallSVM_tfidf, f1SVM_tfidf = get_stats(Ytest_tf_idf, predSVM)"
   ]
  },
  {
   "cell_type": "markdown",
   "metadata": {},
   "source": [
    "### Results"
   ]
  },
  {
   "cell_type": "code",
   "execution_count": 42,
   "metadata": {},
   "outputs": [
    {
     "name": "stdout",
     "output_type": "stream",
     "text": [
      "Word2Vec FOR Perceptron - 0.7465573770491803, 0.900355871886121, 0.8162753181573759\n",
      "Word2Vec FOR SVM - 0.7945093031740241, 0.8611111111111112, 0.8264705882352941\n",
      "TF-IDF FOR PERCEPTRON - 0.8408098028769313, 0.7800514037168842, 0.8092918311881443\n",
      "TF-IDF FOR SVM - 0.8646594562993277, 0.8772241992882562, 0.8708965111143826\n"
     ]
    }
   ],
   "source": [
    "print(f\"Word2Vec FOR Perceptron - {precisionPerceptron_wv}, {recallPerceptron_wv}, {f1Perceptron_wv}\")\n",
    "print(f\"Word2Vec FOR SVM - {precisionSVM_wv}, {recallSVM_wv}, {f1SVM_wv}\")\n",
    "print(f\"TF-IDF FOR PERCEPTRON - {precisionPerceptron_tfidf}, {recallPerceptron_tfidf}, {f1Perceptron_tfidf}\")\n",
    "print(f\"TF-IDF FOR SVM - {precisionSVM_tfidf}, {recallSVM_tfidf}, {f1SVM_tfidf}\")"
   ]
  },
  {
   "cell_type": "markdown",
   "metadata": {},
   "source": [
    "# 4) Feedforward Neural Networks"
   ]
  },
  {
   "cell_type": "code",
   "execution_count": 134,
   "metadata": {},
   "outputs": [],
   "source": [
    "# Training Script\n",
    "def training(train_loader, val_loader, test_loader, model, optimizer, criterion, batch_size, model_name):\n",
    "    loss_graph = {}\n",
    "    trainLoss_graph, valLoss_graph = [], []\n",
    "    minValLoss = np.Inf\n",
    "    num_epochs = 50\n",
    "\n",
    "    for epoch in range(num_epochs):\n",
    "        train_loss = 0.0\n",
    "        val_loss = 00\n",
    "        model.train()\n",
    "        for data, target in train_loader:\n",
    "            optimizer.zero_grad()\n",
    "            outputs = model(data)\n",
    "            loss = criterion(outputs, target)\n",
    "            loss.backward()\n",
    "            optimizer.step()\n",
    "            train_loss+=loss.item()*data.size(0)\n",
    "\n",
    "        model.eval()\n",
    "        for data, target in val_loader:\n",
    "            outputs = model(data)\n",
    "            loss = criterion(outputs, target)\n",
    "            val_loss += loss.item()*data.size(0)\n",
    "\n",
    "        train_loss = train_loss/(len(train_loader)*batch_size)\n",
    "        val_loss = val_loss/(len(val_loader)*batch_size)\n",
    "        trainLoss_graph.append(train_loss)\n",
    "        valLoss_graph.append(val_loss)\n",
    "        print('Epoch: {} \\tTraining Loss: {:.6f} \\tValidation Loss: {:.6f}'.format(epoch+1,train_loss, val_loss))\n",
    "\n",
    "        if val_loss < minValLoss:\n",
    "            if model_name == 'fnn2a':\n",
    "                torch.save(model.state_dict(), 'fnn2a.pt')\n",
    "                minValLoss = val_loss\n",
    "            elif model_name == 'fnn2b':\n",
    "                torch.save(model.state_dict(), 'fnn2b.pt')\n",
    "                minValLoss = val_loss\n",
    "            elif model_name == 'rnn':\n",
    "                torch.save(model.state_dict(), 'rnn.pt')\n",
    "                minValLoss = val_loss\n",
    "            elif model_name == 'gru':\n",
    "                torch.save(model.state_dict(), 'gru.pt')\n",
    "                minValLoss = val_loss\n",
    "            elif model_name == 'lstm':\n",
    "                torch.save(model.state_dict(), 'lstm.pt')\n",
    "                minValLoss = val_loss\n",
    "\n",
    "    correct = 0\n",
    "    total = 0\n",
    "    with torch.no_grad():\n",
    "        for data in test_loader:\n",
    "            embeddings, labels = data\n",
    "            outputs = model(embeddings)            \n",
    "            _, predicted = torch.max(outputs.data, 1)\n",
    "            total += labels.size(0)\n",
    "            correct += (predicted == labels).sum().item()\n",
    "    acc=correct/total\n",
    "\n",
    "    loss_graph['training'] = trainLoss_graph\n",
    "    loss_graph['validation'] = valLoss_graph\n",
    "    loss_graph['accuracy'] = acc\n",
    "\n",
    "    return loss_graph"
   ]
  },
  {
   "cell_type": "markdown",
   "metadata": {},
   "source": [
    "### a) To generate the input features, use the average Word2Vec vectors similar to the “Simple models” section and train the neural network. Report accuracy values on the testing split for your MLP.\n"
   ]
  },
  {
   "cell_type": "code",
   "execution_count": 135,
   "metadata": {},
   "outputs": [],
   "source": [
    "Xtrain_4 = Xtrain_wv.astype(np.float32)\n",
    "Xtest_4 = Xtest_wv.astype(np.float32)\n",
    "Ytrain_4 = Ytrain_wv.copy()\n",
    "Ytest_4 = Ytest_wv.copy()\n",
    "\n",
    "Ytrain_4-=1\n",
    "Ytest_4-=1"
   ]
  },
  {
   "cell_type": "code",
   "execution_count": 136,
   "metadata": {},
   "outputs": [],
   "source": [
    "# Create Dataloader\n",
    "class CustomDataset(Dataset):\n",
    "    def __init__(self, data, labels):\n",
    "        self.data = data\n",
    "        self.labels = labels\n",
    "\n",
    "    def __len__(self):\n",
    "        return len(self.data)\n",
    "\n",
    "    def __getitem__(self, idx):\n",
    "        dataset = self.data[idx]\n",
    "        class_label  = self.labels[idx]\n",
    "        return dataset, class_label\n",
    "\n",
    "batch_size = 32\n",
    "\n",
    "train_dataset = CustomDataset(Xtrain_4, Ytrain_4.values)\n",
    "test_dataset = CustomDataset(Xtest_4, Ytest_4.values)\n",
    "\n",
    "validation_size = int(0.2*len(train_dataset))\n",
    "training_size = len(train_dataset) - validation_size\n",
    "train_set, val_set = random_split(train_dataset, [training_size, validation_size])\n",
    "\n",
    "train_loader = DataLoader(train_set, batch_size=batch_size, shuffle=True)\n",
    "val_loader = DataLoader(val_set, batch_size=batch_size)\n",
    "test_loader = DataLoader(test_dataset, batch_size=batch_size, shuffle=True)"
   ]
  },
  {
   "cell_type": "code",
   "execution_count": 137,
   "metadata": {},
   "outputs": [
    {
     "name": "stdout",
     "output_type": "stream",
     "text": [
      "MLPModel(\n",
      "  (fc1): Linear(in_features=300, out_features=50, bias=True)\n",
      "  (relu1): ReLU()\n",
      "  (fc2): Linear(in_features=50, out_features=5, bias=True)\n",
      "  (relu2): ReLU()\n",
      "  (fc3): Linear(in_features=5, out_features=2, bias=True)\n",
      "  (dropout): Dropout(p=0.2, inplace=False)\n",
      ")\n"
     ]
    }
   ],
   "source": [
    "class MLPModel(nn.Module):\n",
    "    def __init__(self, input_size, hidden_size1, hidden_size2, output_size):\n",
    "        super(MLPModel, self).__init__()\n",
    "        self.fc1 = nn.Linear(input_size, hidden_size1)\n",
    "        self.relu1 = nn.ReLU()\n",
    "        self.fc2 = nn.Linear(hidden_size1, hidden_size2)\n",
    "        self.relu2 = nn.ReLU()\n",
    "        self.fc3 = nn.Linear(hidden_size2, output_size)\n",
    "        self.dropout = nn.Dropout(0.2)\n",
    "\n",
    "    def forward(self, x):\n",
    "        x = self.relu1(self.fc1(x))\n",
    "        x = self.relu2(self.fc2(x))\n",
    "        x = self.dropout(x)\n",
    "        x = self.fc3(x)\n",
    "        return x\n",
    "\n",
    "# Initialize the model\n",
    "input_size = 300  # Word2Vec vector dimension\n",
    "hidden_size1 = 50\n",
    "hidden_size2 = 5\n",
    "output_size = 2  # Replace num_classes with the number of classes in your classification task\n",
    "\n",
    "model2a = MLPModel(input_size, hidden_size1, hidden_size2, output_size)\n",
    "print(model2a)"
   ]
  },
  {
   "cell_type": "code",
   "execution_count": 138,
   "metadata": {},
   "outputs": [],
   "source": [
    "criterion = nn.CrossEntropyLoss()\n",
    "optimizer = torch.optim.SGD(model2a.parameters(), lr=0.001)"
   ]
  },
  {
   "cell_type": "code",
   "execution_count": 139,
   "metadata": {},
   "outputs": [
    {
     "name": "stdout",
     "output_type": "stream",
     "text": [
      "Epoch: 1 \tTraining Loss: 0.693891 \tValidation Loss: 0.693044\n",
      "Epoch: 2 \tTraining Loss: 0.692926 \tValidation Loss: 0.692498\n",
      "Epoch: 3 \tTraining Loss: 0.692463 \tValidation Loss: 0.691976\n",
      "Epoch: 4 \tTraining Loss: 0.691967 \tValidation Loss: 0.691448\n",
      "Epoch: 5 \tTraining Loss: 0.691227 \tValidation Loss: 0.690881\n",
      "Epoch: 6 \tTraining Loss: 0.690716 \tValidation Loss: 0.690245\n",
      "Epoch: 7 \tTraining Loss: 0.690001 \tValidation Loss: 0.689526\n",
      "Epoch: 8 \tTraining Loss: 0.689266 \tValidation Loss: 0.688687\n",
      "Epoch: 9 \tTraining Loss: 0.688329 \tValidation Loss: 0.687687\n",
      "Epoch: 10 \tTraining Loss: 0.687230 \tValidation Loss: 0.686481\n",
      "Epoch: 11 \tTraining Loss: 0.685869 \tValidation Loss: 0.685035\n",
      "Epoch: 12 \tTraining Loss: 0.684353 \tValidation Loss: 0.683272\n",
      "Epoch: 13 \tTraining Loss: 0.682397 \tValidation Loss: 0.681115\n",
      "Epoch: 14 \tTraining Loss: 0.679916 \tValidation Loss: 0.678436\n",
      "Epoch: 15 \tTraining Loss: 0.676963 \tValidation Loss: 0.675137\n",
      "Epoch: 16 \tTraining Loss: 0.673338 \tValidation Loss: 0.671000\n",
      "Epoch: 17 \tTraining Loss: 0.668962 \tValidation Loss: 0.665949\n",
      "Epoch: 18 \tTraining Loss: 0.663476 \tValidation Loss: 0.659741\n",
      "Epoch: 19 \tTraining Loss: 0.656870 \tValidation Loss: 0.652270\n",
      "Epoch: 20 \tTraining Loss: 0.649124 \tValidation Loss: 0.643547\n",
      "Epoch: 21 \tTraining Loss: 0.640647 \tValidation Loss: 0.633716\n",
      "Epoch: 22 \tTraining Loss: 0.630678 \tValidation Loss: 0.623105\n",
      "Epoch: 23 \tTraining Loss: 0.620694 \tValidation Loss: 0.611984\n",
      "Epoch: 24 \tTraining Loss: 0.610316 \tValidation Loss: 0.600483\n",
      "Epoch: 25 \tTraining Loss: 0.600451 \tValidation Loss: 0.589419\n",
      "Epoch: 26 \tTraining Loss: 0.589611 \tValidation Loss: 0.578249\n",
      "Epoch: 27 \tTraining Loss: 0.580782 \tValidation Loss: 0.568309\n",
      "Epoch: 28 \tTraining Loss: 0.571848 \tValidation Loss: 0.558104\n",
      "Epoch: 29 \tTraining Loss: 0.562832 \tValidation Loss: 0.549272\n",
      "Epoch: 30 \tTraining Loss: 0.556179 \tValidation Loss: 0.540325\n",
      "Epoch: 31 \tTraining Loss: 0.548343 \tValidation Loss: 0.532572\n",
      "Epoch: 32 \tTraining Loss: 0.541379 \tValidation Loss: 0.525171\n",
      "Epoch: 33 \tTraining Loss: 0.536336 \tValidation Loss: 0.519074\n",
      "Epoch: 34 \tTraining Loss: 0.531194 \tValidation Loss: 0.512398\n",
      "Epoch: 35 \tTraining Loss: 0.524962 \tValidation Loss: 0.507411\n",
      "Epoch: 36 \tTraining Loss: 0.520452 \tValidation Loss: 0.501527\n",
      "Epoch: 37 \tTraining Loss: 0.515418 \tValidation Loss: 0.498000\n",
      "Epoch: 38 \tTraining Loss: 0.514154 \tValidation Loss: 0.492986\n",
      "Epoch: 39 \tTraining Loss: 0.509123 \tValidation Loss: 0.487918\n",
      "Epoch: 40 \tTraining Loss: 0.503947 \tValidation Loss: 0.484764\n",
      "Epoch: 41 \tTraining Loss: 0.502673 \tValidation Loss: 0.480423\n",
      "Epoch: 42 \tTraining Loss: 0.497410 \tValidation Loss: 0.477474\n",
      "Epoch: 43 \tTraining Loss: 0.495905 \tValidation Loss: 0.473503\n",
      "Epoch: 44 \tTraining Loss: 0.495070 \tValidation Loss: 0.470849\n",
      "Epoch: 45 \tTraining Loss: 0.492913 \tValidation Loss: 0.468704\n",
      "Epoch: 46 \tTraining Loss: 0.489975 \tValidation Loss: 0.465521\n",
      "Epoch: 47 \tTraining Loss: 0.486298 \tValidation Loss: 0.462922\n",
      "Epoch: 48 \tTraining Loss: 0.484090 \tValidation Loss: 0.460733\n",
      "Epoch: 49 \tTraining Loss: 0.483622 \tValidation Loss: 0.458458\n",
      "Epoch: 50 \tTraining Loss: 0.480132 \tValidation Loss: 0.456972\n"
     ]
    }
   ],
   "source": [
    "fnn_training_2a = training(train_loader, val_loader, test_loader, model2a, optimizer, criterion, 32, 'fnn2a')"
   ]
  },
  {
   "cell_type": "code",
   "execution_count": 141,
   "metadata": {},
   "outputs": [
    {
     "name": "stdout",
     "output_type": "stream",
     "text": [
      "Accuracy of Simple FNN(a): 80.33 %\n"
     ]
    },
    {
     "data": {
      "image/png": "[encoded data removed]",
      "text/plain": [
       "<Figure size 640x480 with 1 Axes>"
      ]
     },
     "metadata": {},
     "output_type": "display_data"
    }
   ],
   "source": [
    "print(\"Accuracy of Simple FNN(a):\", fnn_training_2a['accuracy']*100, \"%\")\n",
    "plt.plot(fnn_training_2a['training'])\n",
    "plt.plot(fnn_training_2a['validation'])\n",
    "plt.title('Loss')\n",
    "plt.xlabel('Epoch')\n",
    "plt.ylabel('Loss')\n",
    "plt.show()"
   ]
  },
  {
   "cell_type": "markdown",
   "metadata": {},
   "source": [
    "### b) To generate the input features, concatenate the first 10 Word2Vec vectors for each review as the input feature (x = [WT1, ..., WT10]) and train the neural network. Report the accuracy value on the testing split for your MLP model. What do you conclude by comparing accuracy values you obtain with those obtained in the “’Simple Models” section."
   ]
  },
  {
   "cell_type": "code",
   "execution_count": 50,
   "metadata": {},
   "outputs": [],
   "source": [
    "def generate_concatenated_word_embeddings(reviews):\n",
    "    word_embeddings = []\n",
    "    for review in reviews:\n",
    "        concatenated_vectors = []\n",
    "        review_words = review.split(\" \")\n",
    "\n",
    "        for word in review_words[:10]:  # Take the first 10 words\n",
    "            if word in w2v_model:\n",
    "                concatenated_vectors.extend(w2v_model[word])\n",
    "\n",
    "        # Pad with zeros if fewer than 10 words are available\n",
    "        while len(concatenated_vectors) < 3000:\n",
    "            concatenated_vectors.extend([0] * 300)\n",
    "\n",
    "        word_embeddings.append(concatenated_vectors)\n",
    "\n",
    "    return np.array(word_embeddings)\n",
    "    "
   ]
  },
  {
   "cell_type": "code",
   "execution_count": 51,
   "metadata": {},
   "outputs": [],
   "source": [
    "Xtrain_4_concatenated = generate_concatenated_word_embeddings(Xtrain)\n",
    "Xtest_4_concatenated = generate_concatenated_word_embeddings(Xtest)\n",
    "\n",
    "Xtrain_4_concatenated = Xtrain_4_concatenated.astype(np.float32)\n",
    "Xtest_4_concatenated = Xtest_4_concatenated.astype(np.float32)"
   ]
  },
  {
   "cell_type": "code",
   "execution_count": 52,
   "metadata": {},
   "outputs": [],
   "source": [
    "class CustomDataset(Dataset):\n",
    "    def __init__(self, data, labels):\n",
    "        self.data = data\n",
    "        self.labels = labels\n",
    "\n",
    "    def __len__(self):\n",
    "        return len(self.data)\n",
    "\n",
    "    def __getitem__(self, idx):\n",
    "        dataset = self.data[idx]\n",
    "        class_label  = self.labels[idx]\n",
    "        return dataset, class_label\n",
    "\n",
    "batch_size = 32\n",
    "\n",
    "train_dataset = CustomDataset(Xtrain_4_concatenated, Ytrain_4.values)\n",
    "test_dataset = CustomDataset(Xtest_4_concatenated, Ytest_4.values)\n",
    "\n",
    "validation_size = int(0.2*len(train_dataset))\n",
    "training_size = len(train_dataset) - validation_size\n",
    "train_set, val_set = random_split(train_dataset, [training_size, validation_size])\n",
    "\n",
    "train_loader = DataLoader(train_set, batch_size=batch_size, shuffle=True)\n",
    "val_loader = DataLoader(val_set, batch_size=batch_size)\n",
    "test_loader = DataLoader(test_dataset, batch_size=batch_size, shuffle=True)"
   ]
  },
  {
   "cell_type": "code",
   "execution_count": 53,
   "metadata": {},
   "outputs": [
    {
     "name": "stdout",
     "output_type": "stream",
     "text": [
      "ConcatenatedMLPModel(\n",
      "  (fc1): Linear(in_features=3000, out_features=50, bias=True)\n",
      "  (relu1): ReLU()\n",
      "  (fc2): Linear(in_features=50, out_features=5, bias=True)\n",
      "  (relu2): ReLU()\n",
      "  (fc3): Linear(in_features=5, out_features=2, bias=True)\n",
      "  (dropout): Dropout(p=0.2, inplace=False)\n",
      ")\n"
     ]
    }
   ],
   "source": [
    "class ConcatenatedMLPModel(nn.Module):\n",
    "    def __init__(self, input_size, hidden_size1, hidden_size2, output_size):\n",
    "        super(ConcatenatedMLPModel, self).__init__()\n",
    "        self.fc1 = nn.Linear(input_size, hidden_size1)\n",
    "        self.relu1 = nn.ReLU()\n",
    "        self.fc2 = nn.Linear(hidden_size1, hidden_size2)\n",
    "        self.relu2 = nn.ReLU()\n",
    "        self.fc3 = nn.Linear(hidden_size2, output_size)\n",
    "        self.dropout = nn.Dropout(0.2)\n",
    "\n",
    "    def forward(self, x):\n",
    "        x = self.relu1(self.fc1(x))\n",
    "        x = self.relu2(self.fc2(x))\n",
    "        x = self.dropout(x)\n",
    "        x = self.fc3(x)\n",
    "        return x\n",
    "\n",
    "# Initialize the model\n",
    "input_size = 300*10  # Word2Vec vector dimension\n",
    "hidden_size1 = 50\n",
    "hidden_size2 = 5\n",
    "output_size = 2  # Replace num_classes with the number of classes in your classification task\n",
    "\n",
    "model2b = ConcatenatedMLPModel(input_size, hidden_size1, hidden_size2, output_size)\n",
    "print(model2b)"
   ]
  },
  {
   "cell_type": "code",
   "execution_count": 54,
   "metadata": {},
   "outputs": [],
   "source": [
    "criterion = nn.CrossEntropyLoss()\n",
    "optimizer = torch.optim.SGD(model2b.parameters(), lr=0.01)"
   ]
  },
  {
   "cell_type": "code",
   "execution_count": 55,
   "metadata": {},
   "outputs": [
    {
     "name": "stdout",
     "output_type": "stream",
     "text": [
      "Epoch: 1 \tTraining Loss: 0.685408 \tValidation Loss: 0.664071\n",
      "Epoch: 2 \tTraining Loss: 0.615873 \tValidation Loss: 0.563397\n",
      "Epoch: 3 \tTraining Loss: 0.562726 \tValidation Loss: 0.532883\n",
      "Epoch: 4 \tTraining Loss: 0.544973 \tValidation Loss: 0.525989\n",
      "Epoch: 5 \tTraining Loss: 0.533774 \tValidation Loss: 0.522375\n",
      "Epoch: 6 \tTraining Loss: 0.527566 \tValidation Loss: 0.522683\n",
      "Epoch: 7 \tTraining Loss: 0.519735 \tValidation Loss: 0.517714\n",
      "Epoch: 8 \tTraining Loss: 0.512608 \tValidation Loss: 0.513660\n",
      "Epoch: 9 \tTraining Loss: 0.503130 \tValidation Loss: 0.514764\n",
      "Epoch: 10 \tTraining Loss: 0.494494 \tValidation Loss: 0.508468\n",
      "Epoch: 11 \tTraining Loss: 0.482329 \tValidation Loss: 0.509594\n",
      "Epoch: 12 \tTraining Loss: 0.467641 \tValidation Loss: 0.510186\n",
      "Epoch: 13 \tTraining Loss: 0.453942 \tValidation Loss: 0.516451\n",
      "Epoch: 14 \tTraining Loss: 0.434467 \tValidation Loss: 0.515967\n",
      "Epoch: 15 \tTraining Loss: 0.415904 \tValidation Loss: 0.523239\n",
      "Epoch: 16 \tTraining Loss: 0.395739 \tValidation Loss: 0.529037\n",
      "Epoch: 17 \tTraining Loss: 0.372843 \tValidation Loss: 0.544031\n",
      "Epoch: 18 \tTraining Loss: 0.350509 \tValidation Loss: 0.557783\n",
      "Epoch: 19 \tTraining Loss: 0.326404 \tValidation Loss: 0.585012\n",
      "Epoch: 20 \tTraining Loss: 0.305960 \tValidation Loss: 0.600036\n",
      "Epoch: 21 \tTraining Loss: 0.284108 \tValidation Loss: 0.638545\n",
      "Epoch: 22 \tTraining Loss: 0.263369 \tValidation Loss: 0.719975\n",
      "Epoch: 23 \tTraining Loss: 0.244008 \tValidation Loss: 0.675951\n",
      "Epoch: 24 \tTraining Loss: 0.226409 \tValidation Loss: 0.738640\n",
      "Epoch: 25 \tTraining Loss: 0.211203 \tValidation Loss: 0.741630\n",
      "Epoch: 26 \tTraining Loss: 0.196813 \tValidation Loss: 0.829445\n",
      "Epoch: 27 \tTraining Loss: 0.187337 \tValidation Loss: 0.834283\n",
      "Epoch: 28 \tTraining Loss: 0.175018 \tValidation Loss: 0.887143\n",
      "Epoch: 29 \tTraining Loss: 0.164567 \tValidation Loss: 0.928382\n",
      "Epoch: 30 \tTraining Loss: 0.157385 \tValidation Loss: 0.967791\n",
      "Epoch: 31 \tTraining Loss: 0.146190 \tValidation Loss: 1.012876\n",
      "Epoch: 32 \tTraining Loss: 0.143358 \tValidation Loss: 1.036937\n",
      "Epoch: 33 \tTraining Loss: 0.137373 \tValidation Loss: 1.008681\n",
      "Epoch: 34 \tTraining Loss: 0.134210 \tValidation Loss: 1.094556\n",
      "Epoch: 35 \tTraining Loss: 0.131733 \tValidation Loss: 1.096432\n",
      "Epoch: 36 \tTraining Loss: 0.130268 \tValidation Loss: 1.124629\n",
      "Epoch: 37 \tTraining Loss: 0.122008 \tValidation Loss: 1.186313\n",
      "Epoch: 38 \tTraining Loss: 0.118355 \tValidation Loss: 1.202663\n",
      "Epoch: 39 \tTraining Loss: 0.115353 \tValidation Loss: 1.277118\n",
      "Epoch: 40 \tTraining Loss: 0.113721 \tValidation Loss: 1.134105\n",
      "Epoch: 41 \tTraining Loss: 0.113054 \tValidation Loss: 1.433631\n",
      "Epoch: 42 \tTraining Loss: 0.113064 \tValidation Loss: 1.183635\n",
      "Epoch: 43 \tTraining Loss: 0.114190 \tValidation Loss: 1.488687\n",
      "Epoch: 44 \tTraining Loss: 0.109008 \tValidation Loss: 1.484194\n",
      "Epoch: 45 \tTraining Loss: 0.107336 \tValidation Loss: 1.426582\n",
      "Epoch: 46 \tTraining Loss: 0.106401 \tValidation Loss: 1.445667\n",
      "Epoch: 47 \tTraining Loss: 0.103287 \tValidation Loss: 1.490584\n",
      "Epoch: 48 \tTraining Loss: 0.101211 \tValidation Loss: 1.533174\n",
      "Epoch: 49 \tTraining Loss: 0.098850 \tValidation Loss: 1.434285\n",
      "Epoch: 50 \tTraining Loss: 0.096880 \tValidation Loss: 1.552040\n"
     ]
    }
   ],
   "source": [
    "fnn_training_2b = training(train_loader, val_loader, test_loader, model2b, optimizer, criterion, 32, 'fnn2b')"
   ]
  },
  {
   "cell_type": "code",
   "execution_count": 56,
   "metadata": {},
   "outputs": [
    {
     "name": "stdout",
     "output_type": "stream",
     "text": [
      "Accuracy of Simple FNN(b): 74.285 %\n"
     ]
    },
    {
     "data": {
      "image/png": "[encoded data removed]",
      "text/plain": [
       "<Figure size 640x480 with 1 Axes>"
      ]
     },
     "metadata": {},
     "output_type": "display_data"
    }
   ],
   "source": [
    "print(\"Accuracy of Simple FNN(b):\", fnn_training_2b['accuracy']*100, \"%\")\n",
    "plt.plot(fnn_training_2b['training'])\n",
    "plt.plot(fnn_training_2b['validation'])\n",
    "plt.title('Loss')\n",
    "plt.xlabel('Epoch')\n",
    "plt.ylabel('Loss')\n",
    "plt.show()"
   ]
  },
  {
   "cell_type": "markdown",
   "metadata": {},
   "source": [
    "# 5) Recurrent Neural Networks"
   ]
  },
  {
   "cell_type": "markdown",
   "metadata": {},
   "source": [
    "### a) Train a simple RNN for sentiment analysis. You can consider an RNN cell with the hidden state size of 10. To feed your data into our RNN, limit the maximum review length to 10 by truncating longer reviews and padding shorter reviews with a null value (0). Report accuracy values on the testing split for your RNN model."
   ]
  },
  {
   "cell_type": "code",
   "execution_count": 65,
   "metadata": {},
   "outputs": [],
   "source": [
    "def rnn_embedding_creation(data, max_words, wv_model):\n",
    "    word_embeddings = []\n",
    "    padding = np.zeros((1, 300))\n",
    "\n",
    "    for rev in data:\n",
    "        w2v_vector = []\n",
    "        # Tokenize the review\n",
    "        review_words = rev.split(\" \")\n",
    "\n",
    "        for word in review_words[:max_words]:\n",
    "            if word in wv_model:\n",
    "                w2v_vector.append(wv_model[word].reshape(1, -1))\n",
    "            else:\n",
    "                w2v_vector.append(padding)\n",
    "\n",
    "        # Ensure the number of word vectors is equal to max_words\n",
    "        while len(w2v_vector) < max_words:\n",
    "            w2v_vector.append(padding)\n",
    "\n",
    "        word_embeddings.append(w2v_vector)\n",
    "        \n",
    "    word_embeddings_arr = np.array(word_embeddings)\n",
    "\n",
    "    return word_embeddings_arr"
   ]
  },
  {
   "cell_type": "code",
   "execution_count": 75,
   "metadata": {},
   "outputs": [],
   "source": [
    "Xtrain_5 = rnn_embedding_creation(Xtrain, 10, w2v_model)\n",
    "Xtest_5 = rnn_embedding_creation(Xtest, 10, w2v_model)\n",
    "Xtrain_5_rnn = Xtrain_5.reshape(Xtrain_5.shape[0], Xtrain_5.shape[1], Xtrain_5.shape[3])\n",
    "Xtest_5_rnn = Xtest_5.reshape(Xtest_5.shape[0], Xtest_5.shape[1], Xtest_5.shape[3])\n",
    "\n",
    "Xtrain_5_rnn = Xtrain_5_rnn.astype(np.float32)\n",
    "Xtest_5_rnn = Xtest_5_rnn.astype(np.float32)\n",
    "\n",
    "Ytrain_5 = Ytrain.copy()\n",
    "Ytest_5 = Ytest.copy()\n",
    "Ytrain_5-=1\n",
    "Ytest_5-=1"
   ]
  },
  {
   "cell_type": "code",
   "execution_count": 76,
   "metadata": {},
   "outputs": [],
   "source": [
    "class CustomDataset(Dataset):\n",
    "    def __init__(self, data, labels):\n",
    "        self.data = data\n",
    "        self.labels = labels\n",
    "\n",
    "    def __len__(self):\n",
    "        return len(self.data)\n",
    "\n",
    "    def __getitem__(self, idx):\n",
    "        dataset = self.data[idx]\n",
    "        class_label  = self.labels[idx]\n",
    "        return dataset, class_label\n",
    "\n",
    "batch_size = 32\n",
    "\n",
    "train_dataset = CustomDataset(Xtrain_5_rnn, Ytrain_5.values)\n",
    "test_dataset = CustomDataset(Xtest_5_rnn, Ytest_5.values)\n",
    "\n",
    "validation_size = int(0.2*len(train_dataset))\n",
    "training_size = len(train_dataset) - validation_size\n",
    "train_set, val_set = random_split(train_dataset, [training_size, validation_size])\n",
    "\n",
    "train_loader = DataLoader(train_set, batch_size=batch_size, shuffle=True)\n",
    "val_loader = DataLoader(val_set, batch_size=batch_size)\n",
    "test_loader = DataLoader(test_dataset, batch_size=batch_size, shuffle=True)"
   ]
  },
  {
   "cell_type": "code",
   "execution_count": 77,
   "metadata": {},
   "outputs": [
    {
     "name": "stdout",
     "output_type": "stream",
     "text": [
      "RNN(\n",
      "  (rnn): RNN(300, 10, num_layers=2, batch_first=True)\n",
      "  (linear): Linear(in_features=10, out_features=2, bias=True)\n",
      ")\n"
     ]
    }
   ],
   "source": [
    "class RNN(nn.Module):    \n",
    "    def __init__(self, input_size, hidden_size, output_size, n_layers): \n",
    "        super(RNN, self).__init__()\n",
    "        self.layer_dim = n_layers\n",
    "        self.rnn = nn.RNN(input_size, hidden_size, n_layers, batch_first=True, nonlinearity='relu')\n",
    "        self.linear = nn.Linear(hidden_size, output_size)\n",
    "        \n",
    "    def forward(self, x):\n",
    "        h0 = torch.zeros(self.layer_dim, x.size(0), 10)\n",
    "        out, _ = self.rnn(x, h0)\n",
    "        return self.linear(out[:, -1, :])\n",
    "    \n",
    "input_size = 300\n",
    "hidden_size = 10\n",
    "output_size = 2\n",
    "n_layers = 2\n",
    "\n",
    "rnn = RNN(input_size, hidden_size, output_size, n_layers)\n",
    "print(rnn)"
   ]
  },
  {
   "cell_type": "code",
   "execution_count": 78,
   "metadata": {},
   "outputs": [],
   "source": [
    "criterion = nn.CrossEntropyLoss()\n",
    "optimizer = torch.optim.SGD(rnn.parameters(), lr=0.01)"
   ]
  },
  {
   "cell_type": "code",
   "execution_count": 79,
   "metadata": {},
   "outputs": [
    {
     "name": "stdout",
     "output_type": "stream",
     "text": [
      "Epoch: 1 \tTraining Loss: 0.693833 \tValidation Loss: 0.693439\n",
      "Epoch: 2 \tTraining Loss: 0.692610 \tValidation Loss: 0.692461\n",
      "Epoch: 3 \tTraining Loss: 0.690687 \tValidation Loss: 0.688948\n",
      "Epoch: 4 \tTraining Loss: 0.684503 \tValidation Loss: 0.679331\n",
      "Epoch: 5 \tTraining Loss: 0.629651 \tValidation Loss: 0.600354\n",
      "Epoch: 6 \tTraining Loss: 0.571966 \tValidation Loss: 0.563144\n",
      "Epoch: 7 \tTraining Loss: 0.554655 \tValidation Loss: 0.541020\n",
      "Epoch: 8 \tTraining Loss: 0.543354 \tValidation Loss: 0.537143\n",
      "Epoch: 9 \tTraining Loss: 0.534916 \tValidation Loss: 0.523732\n",
      "Epoch: 10 \tTraining Loss: 0.528496 \tValidation Loss: 0.522845\n",
      "Epoch: 11 \tTraining Loss: 0.523683 \tValidation Loss: 0.522802\n",
      "Epoch: 12 \tTraining Loss: 0.519660 \tValidation Loss: 0.527229\n",
      "Epoch: 13 \tTraining Loss: 0.515958 \tValidation Loss: 0.509381\n",
      "Epoch: 14 \tTraining Loss: 0.512691 \tValidation Loss: 0.506113\n",
      "Epoch: 15 \tTraining Loss: 0.510417 \tValidation Loss: 0.504447\n",
      "Epoch: 16 \tTraining Loss: 0.507398 \tValidation Loss: 0.500993\n",
      "Epoch: 17 \tTraining Loss: 0.504744 \tValidation Loss: 0.524635\n",
      "Epoch: 18 \tTraining Loss: 0.501902 \tValidation Loss: 0.497320\n",
      "Epoch: 19 \tTraining Loss: 0.500200 \tValidation Loss: 0.526778\n",
      "Epoch: 20 \tTraining Loss: 0.497583 \tValidation Loss: 0.497968\n",
      "Epoch: 21 \tTraining Loss: 0.496114 \tValidation Loss: 0.507315\n",
      "Epoch: 22 \tTraining Loss: 0.494787 \tValidation Loss: 0.492559\n",
      "Epoch: 23 \tTraining Loss: 0.492026 \tValidation Loss: 0.492021\n",
      "Epoch: 24 \tTraining Loss: 0.490959 \tValidation Loss: 0.491905\n",
      "Epoch: 25 \tTraining Loss: 0.488555 \tValidation Loss: 0.486914\n",
      "Epoch: 26 \tTraining Loss: 0.486675 \tValidation Loss: 0.487046\n",
      "Epoch: 27 \tTraining Loss: 0.485197 \tValidation Loss: 0.488073\n",
      "Epoch: 28 \tTraining Loss: 0.483873 \tValidation Loss: 0.489609\n",
      "Epoch: 29 \tTraining Loss: 0.482409 \tValidation Loss: 0.482936\n",
      "Epoch: 30 \tTraining Loss: 0.480072 \tValidation Loss: 0.491148\n",
      "Epoch: 31 \tTraining Loss: 0.478674 \tValidation Loss: 0.485054\n",
      "Epoch: 32 \tTraining Loss: 0.478326 \tValidation Loss: 0.483829\n",
      "Epoch: 33 \tTraining Loss: 0.476450 \tValidation Loss: 0.489587\n",
      "Epoch: 34 \tTraining Loss: 0.475063 \tValidation Loss: 0.496655\n",
      "Epoch: 35 \tTraining Loss: 0.473407 \tValidation Loss: 0.477627\n",
      "Epoch: 36 \tTraining Loss: 0.472866 \tValidation Loss: 0.486465\n",
      "Epoch: 37 \tTraining Loss: 0.471605 \tValidation Loss: 0.488742\n",
      "Epoch: 38 \tTraining Loss: 0.470699 \tValidation Loss: 0.476068\n",
      "Epoch: 39 \tTraining Loss: 0.470517 \tValidation Loss: 0.475771\n",
      "Epoch: 40 \tTraining Loss: 0.468876 \tValidation Loss: 0.475153\n",
      "Epoch: 41 \tTraining Loss: 0.467272 \tValidation Loss: 0.512256\n",
      "Epoch: 42 \tTraining Loss: 0.467309 \tValidation Loss: 0.472409\n",
      "Epoch: 43 \tTraining Loss: 0.465648 \tValidation Loss: 0.479632\n",
      "Epoch: 44 \tTraining Loss: 0.465135 \tValidation Loss: 0.485359\n",
      "Epoch: 45 \tTraining Loss: 0.464156 \tValidation Loss: 0.471744\n",
      "Epoch: 46 \tTraining Loss: 0.462952 \tValidation Loss: 0.476695\n",
      "Epoch: 47 \tTraining Loss: 0.462560 \tValidation Loss: 0.480191\n",
      "Epoch: 48 \tTraining Loss: 0.461424 \tValidation Loss: 0.471679\n",
      "Epoch: 49 \tTraining Loss: 0.460217 \tValidation Loss: 0.469548\n",
      "Epoch: 50 \tTraining Loss: 0.460211 \tValidation Loss: 0.471847\n"
     ]
    }
   ],
   "source": [
    "rnn_training = training(train_loader, val_loader, test_loader, rnn, optimizer, criterion, 32, 'rnn')"
   ]
  },
  {
   "cell_type": "code",
   "execution_count": 132,
   "metadata": {},
   "outputs": [
    {
     "name": "stdout",
     "output_type": "stream",
     "text": [
      "Accuracy of RNN: 77.315 %\n"
     ]
    },
    {
     "data": {
      "image/png": "[encoded data removed]",
      "text/plain": [
       "<Figure size 640x480 with 1 Axes>"
      ]
     },
     "metadata": {},
     "output_type": "display_data"
    }
   ],
   "source": [
    "print(\"Accuracy of RNN:\", rnn_training['accuracy']*100, \"%\")\n",
    "plt.plot(rnn_training['training'])\n",
    "plt.plot(rnn_training['validation'])\n",
    "plt.title('Loss')\n",
    "plt.xlabel('Epoch')\n",
    "plt.ylabel('Loss')\n",
    "plt.show()"
   ]
  },
  {
   "cell_type": "markdown",
   "metadata": {},
   "source": [
    "### b) Repeat part (a) by considering a gated recurrent unit cell."
   ]
  },
  {
   "cell_type": "code",
   "execution_count": 118,
   "metadata": {},
   "outputs": [],
   "source": [
    "Xtrain_5 = rnn_embedding_creation(Xtrain, 10, w2v_model)\n",
    "Xtest_5 = rnn_embedding_creation(Xtest, 10, w2v_model)\n",
    "Xtrain_5_gru = Xtrain_5.reshape(Xtrain_5.shape[0], Xtrain_5.shape[1], Xtrain_5.shape[3])\n",
    "Xtest_5_gru = Xtest_5.reshape(Xtest_5.shape[0], Xtest_5.shape[1], Xtest_5.shape[3])\n",
    "\n",
    "Xtrain_5_gru = Xtrain_5_gru.astype(np.float32)\n",
    "Xtest_5_gru = Xtest_5_gru.astype(np.float32)\n",
    "\n",
    "Ytrain_5 = Ytrain.copy()\n",
    "Ytest_5 = Ytest.copy()\n",
    "Ytrain_5-=1\n",
    "Ytest_5-=1"
   ]
  },
  {
   "cell_type": "code",
   "execution_count": 119,
   "metadata": {},
   "outputs": [],
   "source": [
    "class CustomDataset(Dataset):\n",
    "    def __init__(self, data, labels):\n",
    "        self.data = data\n",
    "        self.labels = labels\n",
    "\n",
    "    def __len__(self):\n",
    "        return len(self.data)\n",
    "\n",
    "    def __getitem__(self, idx):\n",
    "        dataset = self.data[idx]\n",
    "        class_label  = self.labels[idx]\n",
    "        return dataset, class_label\n",
    "\n",
    "batch_size = 32\n",
    "\n",
    "train_dataset = CustomDataset(Xtrain_5_gru, Ytrain_5.values)\n",
    "test_dataset = CustomDataset(Xtest_5_gru, Ytest_5.values)\n",
    "\n",
    "validation_size = int(0.2*len(train_dataset))\n",
    "training_size = len(train_dataset) - validation_size\n",
    "train_set, val_set = random_split(train_dataset, [training_size, validation_size])\n",
    "\n",
    "train_loader = DataLoader(train_set, batch_size=batch_size, shuffle=True)\n",
    "val_loader = DataLoader(val_set, batch_size=batch_size)\n",
    "test_loader = DataLoader(test_dataset, batch_size=batch_size, shuffle=True)"
   ]
  },
  {
   "cell_type": "code",
   "execution_count": 120,
   "metadata": {},
   "outputs": [
    {
     "name": "stdout",
     "output_type": "stream",
     "text": [
      "GRU(\n",
      "  (gru): GRU(300, 10, num_layers=2, batch_first=True)\n",
      "  (linear): Linear(in_features=10, out_features=2, bias=True)\n",
      ")\n"
     ]
    }
   ],
   "source": [
    "class GRU(nn.Module):\n",
    "    \n",
    "    def __init__(self, input_size, hidden_size, output_size, n_layers): \n",
    "        super(GRU, self).__init__()\n",
    "        self.layer_dim = n_layers\n",
    "        self.gru = nn.GRU(input_size, hidden_size, n_layers,batch_first=True)\n",
    "        self.linear = nn.Linear(hidden_size, output_size)\n",
    "\n",
    "        \n",
    "    def forward(self, x):\n",
    "        h0 = torch.zeros(self.layer_dim, x.size(0), 10)\n",
    "        out, hn = self.gru(x, h0)\n",
    "        return self.linear(out[:, -1, :])\n",
    "    \n",
    "input_size = 300\n",
    "hidden_size = 10\n",
    "output_size = 2\n",
    "n_layers = 2\n",
    "\n",
    "gru = GRU(input_size, hidden_size, output_size, n_layers)\n",
    "print(gru)"
   ]
  },
  {
   "cell_type": "code",
   "execution_count": 121,
   "metadata": {},
   "outputs": [],
   "source": [
    "criterion = nn.CrossEntropyLoss()\n",
    "optimizer = torch.optim.SGD(gru.parameters(), lr=0.01)"
   ]
  },
  {
   "cell_type": "code",
   "execution_count": 122,
   "metadata": {},
   "outputs": [
    {
     "name": "stdout",
     "output_type": "stream",
     "text": [
      "Epoch: 1 \tTraining Loss: 0.683004 \tValidation Loss: 0.672164\n",
      "Epoch: 2 \tTraining Loss: 0.651423 \tValidation Loss: 0.628557\n",
      "Epoch: 3 \tTraining Loss: 0.598906 \tValidation Loss: 0.577697\n",
      "Epoch: 4 \tTraining Loss: 0.559740 \tValidation Loss: 0.547181\n",
      "Epoch: 5 \tTraining Loss: 0.540301 \tValidation Loss: 0.533525\n",
      "Epoch: 6 \tTraining Loss: 0.529425 \tValidation Loss: 0.528273\n",
      "Epoch: 7 \tTraining Loss: 0.521807 \tValidation Loss: 0.517658\n",
      "Epoch: 8 \tTraining Loss: 0.516185 \tValidation Loss: 0.512980\n",
      "Epoch: 9 \tTraining Loss: 0.511714 \tValidation Loss: 0.508835\n",
      "Epoch: 10 \tTraining Loss: 0.507537 \tValidation Loss: 0.506916\n",
      "Epoch: 11 \tTraining Loss: 0.504116 \tValidation Loss: 0.502957\n",
      "Epoch: 12 \tTraining Loss: 0.501032 \tValidation Loss: 0.500428\n",
      "Epoch: 13 \tTraining Loss: 0.498425 \tValidation Loss: 0.499808\n",
      "Epoch: 14 \tTraining Loss: 0.496008 \tValidation Loss: 0.498428\n",
      "Epoch: 15 \tTraining Loss: 0.493858 \tValidation Loss: 0.505394\n",
      "Epoch: 16 \tTraining Loss: 0.491895 \tValidation Loss: 0.493482\n",
      "Epoch: 17 \tTraining Loss: 0.490365 \tValidation Loss: 0.491398\n",
      "Epoch: 18 \tTraining Loss: 0.488058 \tValidation Loss: 0.492056\n",
      "Epoch: 19 \tTraining Loss: 0.486580 \tValidation Loss: 0.491197\n",
      "Epoch: 20 \tTraining Loss: 0.484962 \tValidation Loss: 0.487459\n",
      "Epoch: 21 \tTraining Loss: 0.483727 \tValidation Loss: 0.486085\n",
      "Epoch: 22 \tTraining Loss: 0.482026 \tValidation Loss: 0.490887\n",
      "Epoch: 23 \tTraining Loss: 0.480956 \tValidation Loss: 0.483800\n",
      "Epoch: 24 \tTraining Loss: 0.479454 \tValidation Loss: 0.483943\n",
      "Epoch: 25 \tTraining Loss: 0.478193 \tValidation Loss: 0.484301\n",
      "Epoch: 26 \tTraining Loss: 0.477161 \tValidation Loss: 0.481328\n",
      "Epoch: 27 \tTraining Loss: 0.475833 \tValidation Loss: 0.482945\n",
      "Epoch: 28 \tTraining Loss: 0.474570 \tValidation Loss: 0.480289\n",
      "Epoch: 29 \tTraining Loss: 0.473439 \tValidation Loss: 0.477869\n",
      "Epoch: 30 \tTraining Loss: 0.472443 \tValidation Loss: 0.477971\n",
      "Epoch: 31 \tTraining Loss: 0.471431 \tValidation Loss: 0.483612\n",
      "Epoch: 32 \tTraining Loss: 0.469991 \tValidation Loss: 0.480780\n",
      "Epoch: 33 \tTraining Loss: 0.469459 \tValidation Loss: 0.477873\n",
      "Epoch: 34 \tTraining Loss: 0.468414 \tValidation Loss: 0.474645\n",
      "Epoch: 35 \tTraining Loss: 0.467356 \tValidation Loss: 0.476541\n",
      "Epoch: 36 \tTraining Loss: 0.466431 \tValidation Loss: 0.481796\n",
      "Epoch: 37 \tTraining Loss: 0.465484 \tValidation Loss: 0.472587\n",
      "Epoch: 38 \tTraining Loss: 0.464400 \tValidation Loss: 0.474515\n",
      "Epoch: 39 \tTraining Loss: 0.463164 \tValidation Loss: 0.475204\n",
      "Epoch: 40 \tTraining Loss: 0.462217 \tValidation Loss: 0.470682\n",
      "Epoch: 41 \tTraining Loss: 0.461722 \tValidation Loss: 0.476528\n",
      "Epoch: 42 \tTraining Loss: 0.461000 \tValidation Loss: 0.482083\n",
      "Epoch: 43 \tTraining Loss: 0.460044 \tValidation Loss: 0.469031\n",
      "Epoch: 44 \tTraining Loss: 0.459037 \tValidation Loss: 0.470673\n",
      "Epoch: 45 \tTraining Loss: 0.458353 \tValidation Loss: 0.475737\n",
      "Epoch: 46 \tTraining Loss: 0.457111 \tValidation Loss: 0.467491\n",
      "Epoch: 47 \tTraining Loss: 0.456497 \tValidation Loss: 0.469190\n",
      "Epoch: 48 \tTraining Loss: 0.455642 \tValidation Loss: 0.467349\n",
      "Epoch: 49 \tTraining Loss: 0.454983 \tValidation Loss: 0.466176\n",
      "Epoch: 50 \tTraining Loss: 0.454159 \tValidation Loss: 0.465139\n"
     ]
    }
   ],
   "source": [
    "gru_training = training(train_loader, val_loader, test_loader, gru, optimizer, criterion, 32, 'gru')"
   ]
  },
  {
   "cell_type": "code",
   "execution_count": 133,
   "metadata": {},
   "outputs": [
    {
     "name": "stdout",
     "output_type": "stream",
     "text": [
      "Accuracy of GRU: 77.625 %\n"
     ]
    },
    {
     "data": {
      "image/png": "[encoded data removed]",
      "text/plain": [
       "<Figure size 640x480 with 1 Axes>"
      ]
     },
     "metadata": {},
     "output_type": "display_data"
    }
   ],
   "source": [
    "print(\"Accuracy of GRU:\", gru_training['accuracy']*100, \"%\")\n",
    "plt.plot(gru_training['training'])\n",
    "plt.plot(gru_training['validation'])\n",
    "plt.title('Loss')\n",
    "plt.xlabel('Epoch')\n",
    "plt.ylabel('Loss')\n",
    "plt.show()"
   ]
  },
  {
   "cell_type": "markdown",
   "metadata": {},
   "source": [
    "### c) Repeat part (a) by considering an LSTM unit cell"
   ]
  },
  {
   "cell_type": "code",
   "execution_count": 125,
   "metadata": {},
   "outputs": [],
   "source": [
    "Xtrain_5 = rnn_embedding_creation(Xtrain, 10, w2v_model)\n",
    "Xtest_5 = rnn_embedding_creation(Xtest, 10, w2v_model)\n",
    "Xtrain_5_lstm = Xtrain_5.reshape(Xtrain_5.shape[0], Xtrain_5.shape[1], Xtrain_5.shape[3])\n",
    "Xtest_5_lstm = Xtest_5.reshape(Xtest_5.shape[0], Xtest_5.shape[1], Xtest_5.shape[3])\n",
    "\n",
    "Xtrain_5_lstm = Xtrain_5_lstm.astype(np.float32)\n",
    "Xtest_5_lstm = Xtest_5_lstm.astype(np.float32)\n",
    "\n",
    "Ytrain_5 = Ytrain.copy()\n",
    "Ytest_5 = Ytest.copy()\n",
    "Ytrain_5-=1\n",
    "Ytest_5-=1"
   ]
  },
  {
   "cell_type": "code",
   "execution_count": 126,
   "metadata": {},
   "outputs": [],
   "source": [
    "class CustomDataset(Dataset):\n",
    "    def __init__(self, data, labels):\n",
    "        self.data = data\n",
    "        self.labels = labels\n",
    "\n",
    "    def __len__(self):\n",
    "        return len(self.data)\n",
    "\n",
    "    def __getitem__(self, idx):\n",
    "        dataset = self.data[idx]\n",
    "        class_label  = self.labels[idx]\n",
    "        return dataset, class_label\n",
    "\n",
    "batch_size = 32\n",
    "\n",
    "train_dataset = CustomDataset(Xtrain_5_lstm, Ytrain_5.values)\n",
    "test_dataset = CustomDataset(Xtest_5_lstm, Ytest_5.values)\n",
    "\n",
    "validation_size = int(0.2*len(train_dataset))\n",
    "training_size = len(train_dataset) - validation_size\n",
    "train_set, val_set = random_split(train_dataset, [training_size, validation_size])\n",
    "\n",
    "train_loader = DataLoader(train_set, batch_size=batch_size, shuffle=True)\n",
    "val_loader = DataLoader(val_set, batch_size=batch_size)\n",
    "test_loader = DataLoader(test_dataset, batch_size=batch_size, shuffle=True)"
   ]
  },
  {
   "cell_type": "code",
   "execution_count": 127,
   "metadata": {},
   "outputs": [
    {
     "name": "stdout",
     "output_type": "stream",
     "text": [
      "LSTM(\n",
      "  (lstm): LSTM(300, 10, num_layers=2, batch_first=True)\n",
      "  (fc): Linear(in_features=10, out_features=2, bias=True)\n",
      ")\n"
     ]
    }
   ],
   "source": [
    "class LSTM(nn.Module):\n",
    "    def __init__(self, input_size, hidden_size, output_size, num_layers):\n",
    "        super(LSTM, self).__init__()\n",
    "        self.num_layers = num_layers\n",
    "        self.lstm = nn.LSTM(input_size, hidden_size, num_layers, batch_first=True)\n",
    "        self.fc = nn.Linear(hidden_size, output_size)\n",
    "\n",
    "    def forward(self, x):\n",
    "        out, (hn, cn) = self.lstm(x)\n",
    "        out = self.fc(out[:, -1, :])\n",
    "        return out\n",
    "    \n",
    "input_size = 300\n",
    "hidden_size = 10\n",
    "output_size = 2\n",
    "num_layers = 2\n",
    "\n",
    "lstm = LSTM(input_size, hidden_size, output_size, num_layers)\n",
    "print(lstm)"
   ]
  },
  {
   "cell_type": "code",
   "execution_count": 128,
   "metadata": {},
   "outputs": [],
   "source": [
    "criterion = nn.CrossEntropyLoss()\n",
    "optimizer = torch.optim.SGD(lstm.parameters(), lr=0.01)"
   ]
  },
  {
   "cell_type": "code",
   "execution_count": 129,
   "metadata": {},
   "outputs": [
    {
     "name": "stdout",
     "output_type": "stream",
     "text": [
      "Epoch: 1 \tTraining Loss: 0.692730 \tValidation Loss: 0.692490\n",
      "Epoch: 2 \tTraining Loss: 0.692280 \tValidation Loss: 0.691958\n",
      "Epoch: 3 \tTraining Loss: 0.691585 \tValidation Loss: 0.691106\n",
      "Epoch: 4 \tTraining Loss: 0.690317 \tValidation Loss: 0.689299\n",
      "Epoch: 5 \tTraining Loss: 0.687302 \tValidation Loss: 0.684346\n",
      "Epoch: 6 \tTraining Loss: 0.674679 \tValidation Loss: 0.655378\n",
      "Epoch: 7 \tTraining Loss: 0.615839 \tValidation Loss: 0.589044\n",
      "Epoch: 8 \tTraining Loss: 0.571081 \tValidation Loss: 0.564727\n",
      "Epoch: 9 \tTraining Loss: 0.550036 \tValidation Loss: 0.543939\n",
      "Epoch: 10 \tTraining Loss: 0.536859 \tValidation Loss: 0.535250\n",
      "Epoch: 11 \tTraining Loss: 0.527661 \tValidation Loss: 0.526640\n",
      "Epoch: 12 \tTraining Loss: 0.520778 \tValidation Loss: 0.521053\n",
      "Epoch: 13 \tTraining Loss: 0.515061 \tValidation Loss: 0.519052\n",
      "Epoch: 14 \tTraining Loss: 0.510257 \tValidation Loss: 0.512942\n",
      "Epoch: 15 \tTraining Loss: 0.506673 \tValidation Loss: 0.513858\n",
      "Epoch: 16 \tTraining Loss: 0.503489 \tValidation Loss: 0.507105\n",
      "Epoch: 17 \tTraining Loss: 0.501063 \tValidation Loss: 0.508623\n",
      "Epoch: 18 \tTraining Loss: 0.497895 \tValidation Loss: 0.506599\n",
      "Epoch: 19 \tTraining Loss: 0.495385 \tValidation Loss: 0.509987\n",
      "Epoch: 20 \tTraining Loss: 0.492515 \tValidation Loss: 0.497878\n",
      "Epoch: 21 \tTraining Loss: 0.490432 \tValidation Loss: 0.497716\n",
      "Epoch: 22 \tTraining Loss: 0.487772 \tValidation Loss: 0.498011\n",
      "Epoch: 23 \tTraining Loss: 0.486281 \tValidation Loss: 0.504727\n",
      "Epoch: 24 \tTraining Loss: 0.484012 \tValidation Loss: 0.512043\n",
      "Epoch: 25 \tTraining Loss: 0.481854 \tValidation Loss: 0.491379\n",
      "Epoch: 26 \tTraining Loss: 0.480286 \tValidation Loss: 0.489114\n",
      "Epoch: 27 \tTraining Loss: 0.478779 \tValidation Loss: 0.488932\n",
      "Epoch: 28 \tTraining Loss: 0.477274 \tValidation Loss: 0.488487\n",
      "Epoch: 29 \tTraining Loss: 0.475466 \tValidation Loss: 0.489871\n",
      "Epoch: 30 \tTraining Loss: 0.474403 \tValidation Loss: 0.484410\n",
      "Epoch: 31 \tTraining Loss: 0.472790 \tValidation Loss: 0.483656\n",
      "Epoch: 32 \tTraining Loss: 0.471585 \tValidation Loss: 0.483051\n",
      "Epoch: 33 \tTraining Loss: 0.470680 \tValidation Loss: 0.482081\n",
      "Epoch: 34 \tTraining Loss: 0.469799 \tValidation Loss: 0.482329\n",
      "Epoch: 35 \tTraining Loss: 0.468369 \tValidation Loss: 0.487496\n",
      "Epoch: 36 \tTraining Loss: 0.467264 \tValidation Loss: 0.479890\n",
      "Epoch: 37 \tTraining Loss: 0.466404 \tValidation Loss: 0.484456\n",
      "Epoch: 38 \tTraining Loss: 0.465484 \tValidation Loss: 0.480277\n",
      "Epoch: 39 \tTraining Loss: 0.463475 \tValidation Loss: 0.480288\n",
      "Epoch: 40 \tTraining Loss: 0.462676 \tValidation Loss: 0.479561\n",
      "Epoch: 41 \tTraining Loss: 0.462227 \tValidation Loss: 0.476971\n",
      "Epoch: 42 \tTraining Loss: 0.460864 \tValidation Loss: 0.483394\n",
      "Epoch: 43 \tTraining Loss: 0.460336 \tValidation Loss: 0.479065\n",
      "Epoch: 44 \tTraining Loss: 0.459496 \tValidation Loss: 0.475613\n",
      "Epoch: 45 \tTraining Loss: 0.458378 \tValidation Loss: 0.474864\n",
      "Epoch: 46 \tTraining Loss: 0.457601 \tValidation Loss: 0.486414\n",
      "Epoch: 47 \tTraining Loss: 0.456707 \tValidation Loss: 0.474175\n",
      "Epoch: 48 \tTraining Loss: 0.456343 \tValidation Loss: 0.473514\n",
      "Epoch: 49 \tTraining Loss: 0.455790 \tValidation Loss: 0.473136\n",
      "Epoch: 50 \tTraining Loss: 0.455086 \tValidation Loss: 0.473264\n"
     ]
    }
   ],
   "source": [
    "lstm_training = training(train_loader, val_loader, test_loader, lstm, optimizer, criterion, 32, 'lstm')"
   ]
  },
  {
   "cell_type": "code",
   "execution_count": 131,
   "metadata": {},
   "outputs": [
    {
     "name": "stdout",
     "output_type": "stream",
     "text": [
      "Accuracy of LSTM: 77.68 %\n"
     ]
    },
    {
     "data": {
      "image/png": "[encoded data removed]",
      "text/plain": [
       "<Figure size 640x480 with 1 Axes>"
      ]
     },
     "metadata": {},
     "output_type": "display_data"
    }
   ],
   "source": [
    "print(\"Accuracy of LSTM:\", lstm_training['accuracy']*100, \"%\")\n",
    "plt.plot(lstm_training['training'])\n",
    "plt.plot(lstm_training['validation'])\n",
    "plt.title('Loss')\n",
    "plt.xlabel('Epoch')\n",
    "plt.ylabel('Loss')\n",
    "plt.show()"
   ]
  }
 ],
 "metadata": {
  "kernelspec": {
   "display_name": "personal",
   "language": "python",
   "name": "python3"
  },
  "language_info": {
   "codemirror_mode": {
    "name": "ipython",
    "version": 3
   },
   "file_extension": ".py",
   "mimetype": "text/x-python",
   "name": "python",
   "nbconvert_exporter": "python",
   "pygments_lexer": "ipython3",
   "version": "3.10.8"
  },
  "orig_nbformat": 4
 },
 "nbformat": 4,
 "nbformat_minor": 2
}
